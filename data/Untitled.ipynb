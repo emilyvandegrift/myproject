{
 "cells": [
  {
   "cell_type": "markdown",
   "metadata": {},
   "source": [
    "#### the heading\n",
    "1. bullets\n",
    "1. numbers \n",
    "1. headings\n",
    "1. labels\n",
    "\n"
   ]
  },
  {
   "cell_type": "markdown",
   "metadata": {},
   "source": [
    "## the second \n",
    "* the first one \n",
    "* the second one\n",
    "* the third one\n"
   ]
  },
  {
   "cell_type": "markdown",
   "metadata": {},
   "source": [
    "## this one \n",
    "1. here is the next one \n",
    "1. hj\n",
    "1. jk\n",
    "    1. ijok\n",
    "    1. jik\n",
    "    1. iojkl\n",
    "    "
   ]
  },
  {
   "cell_type": "code",
   "execution_count": 3,
   "metadata": {},
   "outputs": [],
   "source": [
    "x= 23"
   ]
  },
  {
   "cell_type": "code",
   "execution_count": 4,
   "metadata": {},
   "outputs": [],
   "source": [
    "weight_kg = 55"
   ]
  },
  {
   "cell_type": "code",
   "execution_count": 6,
   "metadata": {},
   "outputs": [
    {
     "name": "stdout",
     "output_type": "stream",
     "text": [
      "55\n",
      "weight in kg: 55\n"
     ]
    }
   ],
   "source": [
    "print(weight_kg)\n",
    "print ('weight in kg:' , weight_kg)"
   ]
  },
  {
   "cell_type": "code",
   "execution_count": 10,
   "metadata": {},
   "outputs": [],
   "source": [
    "weight_lb = weight_kg *2.2"
   ]
  },
  {
   "cell_type": "code",
   "execution_count": 8,
   "metadata": {},
   "outputs": [
    {
     "name": "stdout",
     "output_type": "stream",
     "text": [
      "weight in pounds: 121.00000000000001\n"
     ]
    }
   ],
   "source": [
    "print('weight in pounds:', 2.2*weight_kg)"
   ]
  },
  {
   "cell_type": "code",
   "execution_count": 9,
   "metadata": {},
   "outputs": [],
   "source": [
    "weight_kg=100"
   ]
  },
  {
   "cell_type": "code",
   "execution_count": 11,
   "metadata": {},
   "outputs": [
    {
     "data": {
      "text/plain": [
       "220.00000000000003"
      ]
     },
     "execution_count": 11,
     "metadata": {},
     "output_type": "execute_result"
    }
   ],
   "source": [
    "weight_lb"
   ]
  },
  {
   "cell_type": "code",
   "execution_count": 12,
   "metadata": {},
   "outputs": [],
   "source": [
    "y=x"
   ]
  },
  {
   "cell_type": "code",
   "execution_count": 13,
   "metadata": {},
   "outputs": [],
   "source": [
    "x=58"
   ]
  },
  {
   "cell_type": "code",
   "execution_count": 16,
   "metadata": {},
   "outputs": [
    {
     "data": {
      "text/plain": [
       "58"
      ]
     },
     "execution_count": 16,
     "metadata": {},
     "output_type": "execute_result"
    }
   ],
   "source": [
    "y"
   ]
  },
  {
   "cell_type": "code",
   "execution_count": 17,
   "metadata": {},
   "outputs": [],
   "source": [
    "x=2"
   ]
  },
  {
   "cell_type": "code",
   "execution_count": 18,
   "metadata": {},
   "outputs": [
    {
     "data": {
      "text/plain": [
       "58"
      ]
     },
     "execution_count": 18,
     "metadata": {},
     "output_type": "execute_result"
    }
   ],
   "source": [
    "y"
   ]
  },
  {
   "cell_type": "code",
   "execution_count": 19,
   "metadata": {},
   "outputs": [],
   "source": [
    "x=70"
   ]
  },
  {
   "cell_type": "code",
   "execution_count": 20,
   "metadata": {},
   "outputs": [
    {
     "data": {
      "text/plain": [
       "70"
      ]
     },
     "execution_count": 20,
     "metadata": {},
     "output_type": "execute_result"
    }
   ],
   "source": [
    "x"
   ]
  },
  {
   "cell_type": "code",
   "execution_count": 28,
   "metadata": {},
   "outputs": [],
   "source": [
    "y=x+2"
   ]
  },
  {
   "cell_type": "code",
   "execution_count": 29,
   "metadata": {},
   "outputs": [
    {
     "data": {
      "text/plain": [
       "12"
      ]
     },
     "execution_count": 29,
     "metadata": {},
     "output_type": "execute_result"
    }
   ],
   "source": [
    "y"
   ]
  },
  {
   "cell_type": "code",
   "execution_count": 23,
   "metadata": {},
   "outputs": [],
   "source": [
    "x=10"
   ]
  },
  {
   "cell_type": "code",
   "execution_count": 24,
   "metadata": {},
   "outputs": [
    {
     "data": {
      "text/plain": [
       "10"
      ]
     },
     "execution_count": 24,
     "metadata": {},
     "output_type": "execute_result"
    }
   ],
   "source": [
    "x"
   ]
  },
  {
   "cell_type": "code",
   "execution_count": 25,
   "metadata": {},
   "outputs": [
    {
     "data": {
      "text/plain": [
       "72"
      ]
     },
     "execution_count": 25,
     "metadata": {},
     "output_type": "execute_result"
    }
   ],
   "source": [
    "y"
   ]
  },
  {
   "cell_type": "code",
   "execution_count": 26,
   "metadata": {},
   "outputs": [],
   "source": [
    "y=x+2"
   ]
  },
  {
   "cell_type": "code",
   "execution_count": 27,
   "metadata": {},
   "outputs": [
    {
     "data": {
      "text/plain": [
       "12"
      ]
     },
     "execution_count": 27,
     "metadata": {},
     "output_type": "execute_result"
    }
   ],
   "source": [
    "y"
   ]
  },
  {
   "cell_type": "code",
   "execution_count": 30,
   "metadata": {},
   "outputs": [
    {
     "name": "stdout",
     "output_type": "stream",
     "text": [
      "<class 'int'>\n"
     ]
    }
   ],
   "source": [
    "print(type(52))"
   ]
  },
  {
   "cell_type": "code",
   "execution_count": 31,
   "metadata": {},
   "outputs": [
    {
     "name": "stdout",
     "output_type": "stream",
     "text": [
      "<class 'str'>\n"
     ]
    }
   ],
   "source": [
    "fitness = 'average'\n",
    "print(type(fitness))"
   ]
  },
  {
   "cell_type": "code",
   "execution_count": 32,
   "metadata": {},
   "outputs": [
    {
     "name": "stdout",
     "output_type": "stream",
     "text": [
      "1\n"
     ]
    }
   ],
   "source": [
    "print(4-3)"
   ]
  },
  {
   "cell_type": "code",
   "execution_count": 33,
   "metadata": {},
   "outputs": [
    {
     "name": "stdout",
     "output_type": "stream",
     "text": [
      "fitnessaverage\n"
     ]
    }
   ],
   "source": [
    "print('fitness'+fitness)"
   ]
  },
  {
   "cell_type": "code",
   "execution_count": 35,
   "metadata": {},
   "outputs": [
    {
     "name": "stdout",
     "output_type": "stream",
     "text": [
      "operator operator operator operator operator \n"
     ]
    }
   ],
   "source": [
    "print('operator '*5)"
   ]
  },
  {
   "cell_type": "code",
   "execution_count": 36,
   "metadata": {},
   "outputs": [
    {
     "name": "stdout",
     "output_type": "stream",
     "text": [
      "7\n"
     ]
    }
   ],
   "source": [
    "print(len('fitness'))"
   ]
  },
  {
   "cell_type": "code",
   "execution_count": 37,
   "metadata": {},
   "outputs": [
    {
     "name": "stdout",
     "output_type": "stream",
     "text": [
      "7\n"
     ]
    }
   ],
   "source": [
    "print(len(fitness))"
   ]
  },
  {
   "cell_type": "code",
   "execution_count": 38,
   "metadata": {},
   "outputs": [
    {
     "ename": "TypeError",
     "evalue": "object of type 'int' has no len()",
     "output_type": "error",
     "traceback": [
      "\u001b[1;31m---------------------------------------------------------------------------\u001b[0m",
      "\u001b[1;31mTypeError\u001b[0m                                 Traceback (most recent call last)",
      "\u001b[1;32m<ipython-input-38-706ffb8255ce>\u001b[0m in \u001b[0;36m<module>\u001b[1;34m()\u001b[0m\n\u001b[1;32m----> 1\u001b[1;33m \u001b[0mprint\u001b[0m\u001b[1;33m(\u001b[0m\u001b[0mlen\u001b[0m\u001b[1;33m(\u001b[0m\u001b[1;36m562368\u001b[0m\u001b[1;33m)\u001b[0m\u001b[1;33m)\u001b[0m\u001b[1;33m\u001b[0m\u001b[0m\n\u001b[0m",
      "\u001b[1;31mTypeError\u001b[0m: object of type 'int' has no len()"
     ]
    }
   ],
   "source": [
    "print(len(562368))"
   ]
  },
  {
   "cell_type": "code",
   "execution_count": 39,
   "metadata": {},
   "outputs": [
    {
     "name": "stdout",
     "output_type": "stream",
     "text": [
      "6\n"
     ]
    }
   ],
   "source": [
    "print(len('125368'))"
   ]
  },
  {
   "cell_type": "code",
   "execution_count": 40,
   "metadata": {},
   "outputs": [
    {
     "ename": "TypeError",
     "evalue": "must be str, not int",
     "output_type": "error",
     "traceback": [
      "\u001b[1;31m---------------------------------------------------------------------------\u001b[0m",
      "\u001b[1;31mTypeError\u001b[0m                                 Traceback (most recent call last)",
      "\u001b[1;32m<ipython-input-40-b60a1031360f>\u001b[0m in \u001b[0;36m<module>\u001b[1;34m()\u001b[0m\n\u001b[1;32m----> 1\u001b[1;33m \u001b[0mprint\u001b[0m\u001b[1;33m(\u001b[0m\u001b[1;34m'80'\u001b[0m\u001b[1;33m+\u001b[0m \u001b[0mweight_kg\u001b[0m\u001b[1;33m)\u001b[0m\u001b[1;33m\u001b[0m\u001b[0m\n\u001b[0m",
      "\u001b[1;31mTypeError\u001b[0m: must be str, not int"
     ]
    }
   ],
   "source": [
    "print('80'+ weight_kg)"
   ]
  },
  {
   "cell_type": "code",
   "execution_count": 41,
   "metadata": {},
   "outputs": [
    {
     "name": "stdout",
     "output_type": "stream",
     "text": [
      "180\n"
     ]
    }
   ],
   "source": [
    "print(80+weight_kg)"
   ]
  },
  {
   "cell_type": "code",
   "execution_count": 42,
   "metadata": {},
   "outputs": [
    {
     "name": "stdout",
     "output_type": "stream",
     "text": [
      "3\n"
     ]
    }
   ],
   "source": [
    "print(2+int('1'))"
   ]
  },
  {
   "cell_type": "code",
   "execution_count": 43,
   "metadata": {},
   "outputs": [
    {
     "data": {
      "text/plain": [
       "'1'"
      ]
     },
     "execution_count": 43,
     "metadata": {},
     "output_type": "execute_result"
    }
   ],
   "source": [
    "str(1)"
   ]
  },
  {
   "cell_type": "code",
   "execution_count": 44,
   "metadata": {},
   "outputs": [
    {
     "data": {
      "text/plain": [
       "1"
      ]
     },
     "execution_count": 44,
     "metadata": {},
     "output_type": "execute_result"
    }
   ],
   "source": [
    "len(str(1))"
   ]
  },
  {
   "cell_type": "code",
   "execution_count": 46,
   "metadata": {},
   "outputs": [
    {
     "name": "stdout",
     "output_type": "stream",
     "text": [
      "weight in kilograms is 100\n"
     ]
    }
   ],
   "source": [
    "weight_unit = 'kilograms'\n",
    "print('weight in' , weight_unit, 'is', weight_kg)"
   ]
  },
  {
   "cell_type": "code",
   "execution_count": 47,
   "metadata": {},
   "outputs": [
    {
     "name": "stdout",
     "output_type": "stream",
     "text": [
      "half the weight in  kilograms is 50.0\n"
     ]
    }
   ],
   "source": [
    "print('half the weight in ' , weight_unit, 'is', weight_kg /2)"
   ]
  },
  {
   "cell_type": "code",
   "execution_count": 48,
   "metadata": {},
   "outputs": [
    {
     "name": "stdout",
     "output_type": "stream",
     "text": [
      "g\n"
     ]
    }
   ],
   "source": [
    "print(weight_unit[4])"
   ]
  },
  {
   "cell_type": "code",
   "execution_count": 49,
   "metadata": {},
   "outputs": [
    {
     "name": "stdout",
     "output_type": "stream",
     "text": [
      "ilo\n"
     ]
    }
   ],
   "source": [
    "print(weight_unit[1:4])"
   ]
  },
  {
   "cell_type": "code",
   "execution_count": 50,
   "metadata": {},
   "outputs": [
    {
     "name": "stdout",
     "output_type": "stream",
     "text": [
      "Variable      Type     Data/Info\n",
      "--------------------------------\n",
      "fitness       str      average\n",
      "weight_kg     int      100\n",
      "weight_lb     float    220.00000000000003\n",
      "weight_unit   str      kilograms\n",
      "x             int      10\n",
      "y             int      12\n"
     ]
    }
   ],
   "source": [
    "whos"
   ]
  },
  {
   "cell_type": "code",
   "execution_count": 51,
   "metadata": {},
   "outputs": [],
   "source": [
    "a='242'"
   ]
  },
  {
   "cell_type": "code",
   "execution_count": 52,
   "metadata": {},
   "outputs": [
    {
     "data": {
      "text/plain": [
       "'242'"
      ]
     },
     "execution_count": 52,
     "metadata": {},
     "output_type": "execute_result"
    }
   ],
   "source": [
    "a"
   ]
  },
  {
   "cell_type": "code",
   "execution_count": 68,
   "metadata": {},
   "outputs": [
    {
     "name": "stdout",
     "output_type": "stream",
     "text": [
      "4\n"
     ]
    }
   ],
   "source": [
    "print(a[1])"
   ]
  },
  {
   "cell_type": "code",
   "execution_count": 73,
   "metadata": {},
   "outputs": [
    {
     "name": "stdout",
     "output_type": "stream",
     "text": [
      "gram\n"
     ]
    }
   ],
   "source": [
    "print(weight_unit[4:8])"
   ]
  },
  {
   "cell_type": "code",
   "execution_count": 74,
   "metadata": {},
   "outputs": [
    {
     "ename": "NameError",
     "evalue": "name 'd1c2' is not defined",
     "output_type": "error",
     "traceback": [
      "\u001b[1;31m---------------------------------------------------------------------------\u001b[0m",
      "\u001b[1;31mNameError\u001b[0m                                 Traceback (most recent call last)",
      "\u001b[1;32m<ipython-input-74-9fa21531e85b>\u001b[0m in \u001b[0;36m<module>\u001b[1;34m()\u001b[0m\n\u001b[1;32m----> 1\u001b[1;33m \u001b[0mb\u001b[0m\u001b[1;33m=\u001b[0m\u001b[0md1c2\u001b[0m\u001b[1;33m\u001b[0m\u001b[0m\n\u001b[0m",
      "\u001b[1;31mNameError\u001b[0m: name 'd1c2' is not defined"
     ]
    }
   ],
   "source": [
    "b=d1c2"
   ]
  },
  {
   "cell_type": "code",
   "execution_count": 75,
   "metadata": {},
   "outputs": [],
   "source": [
    "b='d1c2'"
   ]
  },
  {
   "cell_type": "code",
   "execution_count": 76,
   "metadata": {},
   "outputs": [
    {
     "data": {
      "text/plain": [
       "'d1c2'"
      ]
     },
     "execution_count": 76,
     "metadata": {},
     "output_type": "execute_result"
    }
   ],
   "source": [
    "b"
   ]
  },
  {
   "cell_type": "code",
   "execution_count": 77,
   "metadata": {},
   "outputs": [],
   "source": [
    "atom_name='carbon'"
   ]
  },
  {
   "cell_type": "code",
   "execution_count": 78,
   "metadata": {},
   "outputs": [
    {
     "ename": "SyntaxError",
     "evalue": "invalid syntax (<ipython-input-78-a527ae6b4046>, line 1)",
     "output_type": "error",
     "traceback": [
      "\u001b[1;36m  File \u001b[1;32m\"<ipython-input-78-a527ae6b4046>\"\u001b[1;36m, line \u001b[1;32m1\u001b[0m\n\u001b[1;33m    [value:value]\u001b[0m\n\u001b[1;37m          ^\u001b[0m\n\u001b[1;31mSyntaxError\u001b[0m\u001b[1;31m:\u001b[0m invalid syntax\n"
     ]
    }
   ],
   "source": [
    "[value:value]"
   ]
  },
  {
   "cell_type": "code",
   "execution_count": 86,
   "metadata": {},
   "outputs": [
    {
     "name": "stdout",
     "output_type": "stream",
     "text": [
      "carbon\n"
     ]
    }
   ],
   "source": [
    "print(atom_name[0:6])"
   ]
  },
  {
   "cell_type": "code",
   "execution_count": 91,
   "metadata": {},
   "outputs": [
    {
     "name": "stdout",
     "output_type": "stream",
     "text": [
      "on\n"
     ]
    }
   ],
   "source": [
    "print(atom_name[4:])"
   ]
  },
  {
   "cell_type": "code",
   "execution_count": 90,
   "metadata": {},
   "outputs": [
    {
     "name": "stdout",
     "output_type": "stream",
     "text": [
      "carb\n"
     ]
    }
   ],
   "source": [
    "print(atom_name[:4])"
   ]
  },
  {
   "cell_type": "code",
   "execution_count": 87,
   "metadata": {},
   "outputs": [
    {
     "name": "stdout",
     "output_type": "stream",
     "text": [
      "carbon\n"
     ]
    }
   ],
   "source": [
    "print(atom_name[:])"
   ]
  },
  {
   "cell_type": "code",
   "execution_count": 89,
   "metadata": {},
   "outputs": [
    {
     "name": "stdout",
     "output_type": "stream",
     "text": [
      "bo\n"
     ]
    }
   ],
   "source": [
    "print(atom_name[3:-1])"
   ]
  },
  {
   "cell_type": "code",
   "execution_count": 93,
   "metadata": {},
   "outputs": [],
   "source": [
    "#the comment\n",
    "c=9"
   ]
  },
  {
   "cell_type": "code",
   "execution_count": 94,
   "metadata": {},
   "outputs": [
    {
     "name": "stdout",
     "output_type": "stream",
     "text": [
      "1\n",
      "a\n",
      "!\n"
     ]
    }
   ],
   "source": [
    "print(min(1,2,3))\n",
    "print(min('a','b','c'))\n",
    "print(min('String!'))"
   ]
  },
  {
   "cell_type": "code",
   "execution_count": 95,
   "metadata": {},
   "outputs": [
    {
     "name": "stdout",
     "output_type": "stream",
     "text": [
      "4\n"
     ]
    }
   ],
   "source": [
    "print(round(3.89902893487))"
   ]
  },
  {
   "cell_type": "code",
   "execution_count": 96,
   "metadata": {},
   "outputs": [
    {
     "name": "stdout",
     "output_type": "stream",
     "text": [
      "3.988\n"
     ]
    }
   ],
   "source": [
    "print(round(3.9878372846376,3))"
   ]
  },
  {
   "cell_type": "code",
   "execution_count": 97,
   "metadata": {},
   "outputs": [],
   "source": [
    "round?"
   ]
  },
  {
   "cell_type": "code",
   "execution_count": 98,
   "metadata": {},
   "outputs": [
    {
     "name": "stdout",
     "output_type": "stream",
     "text": [
      "Help on built-in function round in module builtins:\n",
      "\n",
      "round(...)\n",
      "    round(number[, ndigits]) -> number\n",
      "    \n",
      "    Round a number to a given precision in decimal digits (default 0 digits).\n",
      "    This returns an int when called with one argument, otherwise the\n",
      "    same type as the number. ndigits may be negative.\n",
      "\n"
     ]
    }
   ],
   "source": [
    "help(round)"
   ]
  },
  {
   "cell_type": "code",
   "execution_count": 99,
   "metadata": {},
   "outputs": [
    {
     "data": {
      "text/plain": [
       "<function round>"
      ]
     },
     "execution_count": 99,
     "metadata": {},
     "output_type": "execute_result"
    }
   ],
   "source": [
    "round #shift-tab also gives the help window"
   ]
  },
  {
   "cell_type": "code",
   "execution_count": 100,
   "metadata": {},
   "outputs": [
    {
     "ename": "NameError",
     "evalue": "name 'agee' is not defined",
     "output_type": "error",
     "traceback": [
      "\u001b[1;31m---------------------------------------------------------------------------\u001b[0m",
      "\u001b[1;31mNameError\u001b[0m                                 Traceback (most recent call last)",
      "\u001b[1;32m<ipython-input-100-8742ead89509>\u001b[0m in \u001b[0;36m<module>\u001b[1;34m()\u001b[0m\n\u001b[0;32m      1\u001b[0m \u001b[0mage\u001b[0m \u001b[1;33m=\u001b[0m\u001b[1;36m23\u001b[0m\u001b[1;33m\u001b[0m\u001b[0m\n\u001b[1;32m----> 2\u001b[1;33m \u001b[0mremaining\u001b[0m\u001b[1;33m=\u001b[0m\u001b[1;36m100\u001b[0m\u001b[1;33m-\u001b[0m\u001b[0magee\u001b[0m \u001b[1;31m# mispell age\u001b[0m\u001b[1;33m\u001b[0m\u001b[0m\n\u001b[0m",
      "\u001b[1;31mNameError\u001b[0m: name 'agee' is not defined"
     ]
    }
   ],
   "source": [
    "age =23\n",
    "remaining=100-agee # mispell age"
   ]
  },
  {
   "cell_type": "code",
   "execution_count": 101,
   "metadata": {},
   "outputs": [
    {
     "ename": "SyntaxError",
     "evalue": "EOL while scanning string literal (<ipython-input-101-69c347ed7a6a>, line 1)",
     "output_type": "error",
     "traceback": [
      "\u001b[1;36m  File \u001b[1;32m\"<ipython-input-101-69c347ed7a6a>\"\u001b[1;36m, line \u001b[1;32m1\u001b[0m\n\u001b[1;33m    name = 'sarah\u001b[0m\n\u001b[1;37m                 ^\u001b[0m\n\u001b[1;31mSyntaxError\u001b[0m\u001b[1;31m:\u001b[0m EOL while scanning string literal\n"
     ]
    }
   ],
   "source": [
    "name = 'sarah"
   ]
  },
  {
   "cell_type": "code",
   "execution_count": 102,
   "metadata": {},
   "outputs": [
    {
     "data": {
      "text/plain": [
       "False"
      ]
     },
     "execution_count": 102,
     "metadata": {},
     "output_type": "execute_result"
    }
   ],
   "source": [
    "age == 5"
   ]
  },
  {
   "cell_type": "code",
   "execution_count": 103,
   "metadata": {},
   "outputs": [
    {
     "ename": "SyntaxError",
     "evalue": "invalid syntax (<ipython-input-103-07899d0a7493>, line 1)",
     "output_type": "error",
     "traceback": [
      "\u001b[1;36m  File \u001b[1;32m\"<ipython-input-103-07899d0a7493>\"\u001b[1;36m, line \u001b[1;32m1\u001b[0m\n\u001b[1;33m    age = = 5\u001b[0m\n\u001b[1;37m          ^\u001b[0m\n\u001b[1;31mSyntaxError\u001b[0m\u001b[1;31m:\u001b[0m invalid syntax\n"
     ]
    }
   ],
   "source": [
    "age = = 5"
   ]
  },
  {
   "cell_type": "code",
   "execution_count": 105,
   "metadata": {},
   "outputs": [
    {
     "ename": "SyntaxError",
     "evalue": "unexpected EOF while parsing (<ipython-input-105-fe69f65f3ba9>, line 1)",
     "output_type": "error",
     "traceback": [
      "\u001b[1;36m  File \u001b[1;32m\"<ipython-input-105-fe69f65f3ba9>\"\u001b[1;36m, line \u001b[1;32m1\u001b[0m\n\u001b[1;33m    print(\"hello world\"\u001b[0m\n\u001b[1;37m                       ^\u001b[0m\n\u001b[1;31mSyntaxError\u001b[0m\u001b[1;31m:\u001b[0m unexpected EOF while parsing\n"
     ]
    }
   ],
   "source": [
    "print(\"hello world\""
   ]
  },
  {
   "cell_type": "code",
   "execution_count": 108,
   "metadata": {},
   "outputs": [
    {
     "name": "stdout",
     "output_type": "stream",
     "text": [
      "pi is 3.141592653589793\n",
      "cos(pi) is -1.0\n"
     ]
    }
   ],
   "source": [
    "import math\n",
    "print('pi is', math.pi)\n",
    "print('cos(pi) is', math.cos(math.pi))"
   ]
  },
  {
   "cell_type": "code",
   "execution_count": 109,
   "metadata": {},
   "outputs": [
    {
     "name": "stdout",
     "output_type": "stream",
     "text": [
      "Help on built-in module math:\n",
      "\n",
      "NAME\n",
      "    math\n",
      "\n",
      "DESCRIPTION\n",
      "    This module is always available.  It provides access to the\n",
      "    mathematical functions defined by the C standard.\n",
      "\n",
      "FUNCTIONS\n",
      "    acos(...)\n",
      "        acos(x)\n",
      "        \n",
      "        Return the arc cosine (measured in radians) of x.\n",
      "    \n",
      "    acosh(...)\n",
      "        acosh(x)\n",
      "        \n",
      "        Return the inverse hyperbolic cosine of x.\n",
      "    \n",
      "    asin(...)\n",
      "        asin(x)\n",
      "        \n",
      "        Return the arc sine (measured in radians) of x.\n",
      "    \n",
      "    asinh(...)\n",
      "        asinh(x)\n",
      "        \n",
      "        Return the inverse hyperbolic sine of x.\n",
      "    \n",
      "    atan(...)\n",
      "        atan(x)\n",
      "        \n",
      "        Return the arc tangent (measured in radians) of x.\n",
      "    \n",
      "    atan2(...)\n",
      "        atan2(y, x)\n",
      "        \n",
      "        Return the arc tangent (measured in radians) of y/x.\n",
      "        Unlike atan(y/x), the signs of both x and y are considered.\n",
      "    \n",
      "    atanh(...)\n",
      "        atanh(x)\n",
      "        \n",
      "        Return the inverse hyperbolic tangent of x.\n",
      "    \n",
      "    ceil(...)\n",
      "        ceil(x)\n",
      "        \n",
      "        Return the ceiling of x as an Integral.\n",
      "        This is the smallest integer >= x.\n",
      "    \n",
      "    copysign(...)\n",
      "        copysign(x, y)\n",
      "        \n",
      "        Return a float with the magnitude (absolute value) of x but the sign \n",
      "        of y. On platforms that support signed zeros, copysign(1.0, -0.0) \n",
      "        returns -1.0.\n",
      "    \n",
      "    cos(...)\n",
      "        cos(x)\n",
      "        \n",
      "        Return the cosine of x (measured in radians).\n",
      "    \n",
      "    cosh(...)\n",
      "        cosh(x)\n",
      "        \n",
      "        Return the hyperbolic cosine of x.\n",
      "    \n",
      "    degrees(...)\n",
      "        degrees(x)\n",
      "        \n",
      "        Convert angle x from radians to degrees.\n",
      "    \n",
      "    erf(...)\n",
      "        erf(x)\n",
      "        \n",
      "        Error function at x.\n",
      "    \n",
      "    erfc(...)\n",
      "        erfc(x)\n",
      "        \n",
      "        Complementary error function at x.\n",
      "    \n",
      "    exp(...)\n",
      "        exp(x)\n",
      "        \n",
      "        Return e raised to the power of x.\n",
      "    \n",
      "    expm1(...)\n",
      "        expm1(x)\n",
      "        \n",
      "        Return exp(x)-1.\n",
      "        This function avoids the loss of precision involved in the direct evaluation of exp(x)-1 for small x.\n",
      "    \n",
      "    fabs(...)\n",
      "        fabs(x)\n",
      "        \n",
      "        Return the absolute value of the float x.\n",
      "    \n",
      "    factorial(...)\n",
      "        factorial(x) -> Integral\n",
      "        \n",
      "        Find x!. Raise a ValueError if x is negative or non-integral.\n",
      "    \n",
      "    floor(...)\n",
      "        floor(x)\n",
      "        \n",
      "        Return the floor of x as an Integral.\n",
      "        This is the largest integer <= x.\n",
      "    \n",
      "    fmod(...)\n",
      "        fmod(x, y)\n",
      "        \n",
      "        Return fmod(x, y), according to platform C.  x % y may differ.\n",
      "    \n",
      "    frexp(...)\n",
      "        frexp(x)\n",
      "        \n",
      "        Return the mantissa and exponent of x, as pair (m, e).\n",
      "        m is a float and e is an int, such that x = m * 2.**e.\n",
      "        If x is 0, m and e are both 0.  Else 0.5 <= abs(m) < 1.0.\n",
      "    \n",
      "    fsum(...)\n",
      "        fsum(iterable)\n",
      "        \n",
      "        Return an accurate floating point sum of values in the iterable.\n",
      "        Assumes IEEE-754 floating point arithmetic.\n",
      "    \n",
      "    gamma(...)\n",
      "        gamma(x)\n",
      "        \n",
      "        Gamma function at x.\n",
      "    \n",
      "    gcd(...)\n",
      "        gcd(x, y) -> int\n",
      "        greatest common divisor of x and y\n",
      "    \n",
      "    hypot(...)\n",
      "        hypot(x, y)\n",
      "        \n",
      "        Return the Euclidean distance, sqrt(x*x + y*y).\n",
      "    \n",
      "    isclose(...)\n",
      "        isclose(a, b, *, rel_tol=1e-09, abs_tol=0.0) -> bool\n",
      "        \n",
      "        Determine whether two floating point numbers are close in value.\n",
      "        \n",
      "           rel_tol\n",
      "               maximum difference for being considered \"close\", relative to the\n",
      "               magnitude of the input values\n",
      "            abs_tol\n",
      "               maximum difference for being considered \"close\", regardless of the\n",
      "               magnitude of the input values\n",
      "        \n",
      "        Return True if a is close in value to b, and False otherwise.\n",
      "        \n",
      "        For the values to be considered close, the difference between them\n",
      "        must be smaller than at least one of the tolerances.\n",
      "        \n",
      "        -inf, inf and NaN behave similarly to the IEEE 754 Standard.  That\n",
      "        is, NaN is not close to anything, even itself.  inf and -inf are\n",
      "        only close to themselves.\n",
      "    \n",
      "    isfinite(...)\n",
      "        isfinite(x) -> bool\n",
      "        \n",
      "        Return True if x is neither an infinity nor a NaN, and False otherwise.\n",
      "    \n",
      "    isinf(...)\n",
      "        isinf(x) -> bool\n",
      "        \n",
      "        Return True if x is a positive or negative infinity, and False otherwise.\n",
      "    \n",
      "    isnan(...)\n",
      "        isnan(x) -> bool\n",
      "        \n",
      "        Return True if x is a NaN (not a number), and False otherwise.\n",
      "    \n",
      "    ldexp(...)\n",
      "        ldexp(x, i)\n",
      "        \n",
      "        Return x * (2**i).\n",
      "    \n",
      "    lgamma(...)\n",
      "        lgamma(x)\n",
      "        \n",
      "        Natural logarithm of absolute value of Gamma function at x.\n",
      "    \n",
      "    log(...)\n",
      "        log(x[, base])\n",
      "        \n",
      "        Return the logarithm of x to the given base.\n",
      "        If the base not specified, returns the natural logarithm (base e) of x.\n",
      "    \n",
      "    log10(...)\n",
      "        log10(x)\n",
      "        \n",
      "        Return the base 10 logarithm of x.\n",
      "    \n",
      "    log1p(...)\n",
      "        log1p(x)\n",
      "        \n",
      "        Return the natural logarithm of 1+x (base e).\n",
      "        The result is computed in a way which is accurate for x near zero.\n",
      "    \n",
      "    log2(...)\n",
      "        log2(x)\n",
      "        \n",
      "        Return the base 2 logarithm of x.\n",
      "    \n",
      "    modf(...)\n",
      "        modf(x)\n",
      "        \n",
      "        Return the fractional and integer parts of x.  Both results carry the sign\n",
      "        of x and are floats.\n",
      "    \n",
      "    pow(...)\n",
      "        pow(x, y)\n",
      "        \n",
      "        Return x**y (x to the power of y).\n",
      "    \n",
      "    radians(...)\n",
      "        radians(x)\n",
      "        \n",
      "        Convert angle x from degrees to radians.\n",
      "    \n",
      "    sin(...)\n",
      "        sin(x)\n",
      "        \n",
      "        Return the sine of x (measured in radians).\n",
      "    \n",
      "    sinh(...)\n",
      "        sinh(x)\n",
      "        \n",
      "        Return the hyperbolic sine of x.\n",
      "    \n",
      "    sqrt(...)\n",
      "        sqrt(x)\n",
      "        \n",
      "        Return the square root of x.\n",
      "    \n",
      "    tan(...)\n",
      "        tan(x)\n",
      "        \n",
      "        Return the tangent of x (measured in radians).\n",
      "    \n",
      "    tanh(...)\n",
      "        tanh(x)\n",
      "        \n",
      "        Return the hyperbolic tangent of x.\n",
      "    \n",
      "    trunc(...)\n",
      "        trunc(x:Real) -> Integral\n",
      "        \n",
      "        Truncates x to the nearest Integral toward 0. Uses the __trunc__ magic method.\n",
      "\n",
      "DATA\n",
      "    e = 2.718281828459045\n",
      "    inf = inf\n",
      "    nan = nan\n",
      "    pi = 3.141592653589793\n",
      "    tau = 6.283185307179586\n",
      "\n",
      "FILE\n",
      "    (built-in)\n",
      "\n",
      "\n"
     ]
    }
   ],
   "source": [
    "help(math)"
   ]
  },
  {
   "cell_type": "code",
   "execution_count": 110,
   "metadata": {},
   "outputs": [
    {
     "name": "stdout",
     "output_type": "stream",
     "text": [
      "cos(pi) is -1.0\n"
     ]
    }
   ],
   "source": [
    "from math import cos, pi\n",
    "print ('cos(pi) is', cos(pi))"
   ]
  },
  {
   "cell_type": "code",
   "execution_count": 111,
   "metadata": {},
   "outputs": [
    {
     "name": "stdout",
     "output_type": "stream",
     "text": [
      "C:\\Users\\metal\n"
     ]
    }
   ],
   "source": [
    "cd"
   ]
  },
  {
   "cell_type": "code",
   "execution_count": 117,
   "metadata": {},
   "outputs": [
    {
     "name": "stdout",
     "output_type": "stream",
     "text": [
      "       country  gdpPercap_1952  gdpPercap_1957  gdpPercap_1962  \\\n",
      "0    Australia     10039.59564     10949.64959     12217.22686   \n",
      "1  New Zealand     10556.57566     12247.39532     13175.67800   \n",
      "\n",
      "   gdpPercap_1967  gdpPercap_1972  gdpPercap_1977  gdpPercap_1982  \\\n",
      "0     14526.12465     16788.62948     18334.19751     19477.00928   \n",
      "1     14463.91893     16046.03728     16233.71770     17632.41040   \n",
      "\n",
      "   gdpPercap_1987  gdpPercap_1992  gdpPercap_1997  gdpPercap_2002  \\\n",
      "0     21888.88903     23424.76683     26997.93657     30687.75473   \n",
      "1     19007.19129     18363.32494     21050.41377     23189.80135   \n",
      "\n",
      "   gdpPercap_2007  \n",
      "0     34435.36744  \n",
      "1     25185.00911  \n"
     ]
    }
   ],
   "source": [
    "import pandas as pd\n",
    "data = pd.read_csv('/Users/metal/Desktop/data/gapminder_gdp_oceania.csv')\n",
    "print(data)"
   ]
  },
  {
   "cell_type": "code",
   "execution_count": 119,
   "metadata": {},
   "outputs": [
    {
     "name": "stdout",
     "output_type": "stream",
     "text": [
      "             gdpPercap_1952  gdpPercap_1957  gdpPercap_1962  gdpPercap_1967  \\\n",
      "country                                                                       \n",
      "Australia       10039.59564     10949.64959     12217.22686     14526.12465   \n",
      "New Zealand     10556.57566     12247.39532     13175.67800     14463.91893   \n",
      "\n",
      "             gdpPercap_1972  gdpPercap_1977  gdpPercap_1982  gdpPercap_1987  \\\n",
      "country                                                                       \n",
      "Australia       16788.62948     18334.19751     19477.00928     21888.88903   \n",
      "New Zealand     16046.03728     16233.71770     17632.41040     19007.19129   \n",
      "\n",
      "             gdpPercap_1992  gdpPercap_1997  gdpPercap_2002  gdpPercap_2007  \n",
      "country                                                                      \n",
      "Australia       23424.76683     26997.93657     30687.75473     34435.36744  \n",
      "New Zealand     18363.32494     21050.41377     23189.80135     25185.00911  \n"
     ]
    }
   ],
   "source": [
    "data = pd.read_csv('/Users/metal/Desktop/data/gapminder_gdp_oceania.csv', index_col='country')\n",
    "print(data)"
   ]
  },
  {
   "cell_type": "code",
   "execution_count": 120,
   "metadata": {},
   "outputs": [
    {
     "name": "stdout",
     "output_type": "stream",
     "text": [
      "<class 'pandas.core.frame.DataFrame'>\n",
      "Index: 2 entries, Australia to New Zealand\n",
      "Data columns (total 12 columns):\n",
      "gdpPercap_1952    2 non-null float64\n",
      "gdpPercap_1957    2 non-null float64\n",
      "gdpPercap_1962    2 non-null float64\n",
      "gdpPercap_1967    2 non-null float64\n",
      "gdpPercap_1972    2 non-null float64\n",
      "gdpPercap_1977    2 non-null float64\n",
      "gdpPercap_1982    2 non-null float64\n",
      "gdpPercap_1987    2 non-null float64\n",
      "gdpPercap_1992    2 non-null float64\n",
      "gdpPercap_1997    2 non-null float64\n",
      "gdpPercap_2002    2 non-null float64\n",
      "gdpPercap_2007    2 non-null float64\n",
      "dtypes: float64(12)\n",
      "memory usage: 208.0+ bytes\n"
     ]
    }
   ],
   "source": [
    "data.info()"
   ]
  },
  {
   "cell_type": "code",
   "execution_count": 121,
   "metadata": {},
   "outputs": [
    {
     "name": "stdout",
     "output_type": "stream",
     "text": [
      "country           Australia  New Zealand\n",
      "gdpPercap_1952  10039.59564  10556.57566\n",
      "gdpPercap_1957  10949.64959  12247.39532\n",
      "gdpPercap_1962  12217.22686  13175.67800\n",
      "gdpPercap_1967  14526.12465  14463.91893\n",
      "gdpPercap_1972  16788.62948  16046.03728\n",
      "gdpPercap_1977  18334.19751  16233.71770\n",
      "gdpPercap_1982  19477.00928  17632.41040\n",
      "gdpPercap_1987  21888.88903  19007.19129\n",
      "gdpPercap_1992  23424.76683  18363.32494\n",
      "gdpPercap_1997  26997.93657  21050.41377\n",
      "gdpPercap_2002  30687.75473  23189.80135\n",
      "gdpPercap_2007  34435.36744  25185.00911\n"
     ]
    }
   ],
   "source": [
    "print(data.T)"
   ]
  },
  {
   "cell_type": "code",
   "execution_count": 122,
   "metadata": {},
   "outputs": [
    {
     "name": "stdout",
     "output_type": "stream",
     "text": [
      "       gdpPercap_1952  gdpPercap_1957  gdpPercap_1962  gdpPercap_1967  \\\n",
      "count        2.000000        2.000000        2.000000        2.000000   \n",
      "mean     10298.085650    11598.522455    12696.452430    14495.021790   \n",
      "std        365.560078      917.644806      677.727301       43.986086   \n",
      "min      10039.595640    10949.649590    12217.226860    14463.918930   \n",
      "25%      10168.840645    11274.086022    12456.839645    14479.470360   \n",
      "50%      10298.085650    11598.522455    12696.452430    14495.021790   \n",
      "75%      10427.330655    11922.958888    12936.065215    14510.573220   \n",
      "max      10556.575660    12247.395320    13175.678000    14526.124650   \n",
      "\n",
      "       gdpPercap_1972  gdpPercap_1977  gdpPercap_1982  gdpPercap_1987  \\\n",
      "count         2.00000        2.000000        2.000000        2.000000   \n",
      "mean      16417.33338    17283.957605    18554.709840    20448.040160   \n",
      "std         525.09198     1485.263517     1304.328377     2037.668013   \n",
      "min       16046.03728    16233.717700    17632.410400    19007.191290   \n",
      "25%       16231.68533    16758.837652    18093.560120    19727.615725   \n",
      "50%       16417.33338    17283.957605    18554.709840    20448.040160   \n",
      "75%       16602.98143    17809.077557    19015.859560    21168.464595   \n",
      "max       16788.62948    18334.197510    19477.009280    21888.889030   \n",
      "\n",
      "       gdpPercap_1992  gdpPercap_1997  gdpPercap_2002  gdpPercap_2007  \n",
      "count        2.000000        2.000000        2.000000        2.000000  \n",
      "mean     20894.045885    24024.175170    26938.778040    29810.188275  \n",
      "std       3578.979883     4205.533703     5301.853680     6540.991104  \n",
      "min      18363.324940    21050.413770    23189.801350    25185.009110  \n",
      "25%      19628.685413    22537.294470    25064.289695    27497.598692  \n",
      "50%      20894.045885    24024.175170    26938.778040    29810.188275  \n",
      "75%      22159.406358    25511.055870    28813.266385    32122.777857  \n",
      "max      23424.766830    26997.936570    30687.754730    34435.367440  \n"
     ]
    }
   ],
   "source": [
    "print(data.describe())"
   ]
  },
  {
   "cell_type": "code",
   "execution_count": 123,
   "metadata": {},
   "outputs": [
    {
     "ename": "FileNotFoundError",
     "evalue": "File b'/Users/metal/Desktop/data/europe.csv' does not exist",
     "output_type": "error",
     "traceback": [
      "\u001b[1;31m---------------------------------------------------------------------------\u001b[0m",
      "\u001b[1;31mFileNotFoundError\u001b[0m                         Traceback (most recent call last)",
      "\u001b[1;32m<ipython-input-123-e2d6db3423e3>\u001b[0m in \u001b[0;36m<module>\u001b[1;34m()\u001b[0m\n\u001b[1;32m----> 1\u001b[1;33m \u001b[0mdata\u001b[0m \u001b[1;33m=\u001b[0m \u001b[0mpd\u001b[0m\u001b[1;33m.\u001b[0m\u001b[0mread_csv\u001b[0m\u001b[1;33m(\u001b[0m\u001b[1;34m'/Users/metal/Desktop/data/europe.csv'\u001b[0m\u001b[1;33m)\u001b[0m\u001b[1;33m\u001b[0m\u001b[0m\n\u001b[0m\u001b[0;32m      2\u001b[0m \u001b[0mprint\u001b[0m\u001b[1;33m(\u001b[0m\u001b[0mdata\u001b[0m\u001b[1;33m)\u001b[0m\u001b[1;33m\u001b[0m\u001b[0m\n",
      "\u001b[1;32m~\\Anaconda3\\lib\\site-packages\\pandas\\io\\parsers.py\u001b[0m in \u001b[0;36mparser_f\u001b[1;34m(filepath_or_buffer, sep, delimiter, header, names, index_col, usecols, squeeze, prefix, mangle_dupe_cols, dtype, engine, converters, true_values, false_values, skipinitialspace, skiprows, nrows, na_values, keep_default_na, na_filter, verbose, skip_blank_lines, parse_dates, infer_datetime_format, keep_date_col, date_parser, dayfirst, iterator, chunksize, compression, thousands, decimal, lineterminator, quotechar, quoting, escapechar, comment, encoding, dialect, tupleize_cols, error_bad_lines, warn_bad_lines, skipfooter, skip_footer, doublequote, delim_whitespace, as_recarray, compact_ints, use_unsigned, low_memory, buffer_lines, memory_map, float_precision)\u001b[0m\n\u001b[0;32m    707\u001b[0m                     skip_blank_lines=skip_blank_lines)\n\u001b[0;32m    708\u001b[0m \u001b[1;33m\u001b[0m\u001b[0m\n\u001b[1;32m--> 709\u001b[1;33m         \u001b[1;32mreturn\u001b[0m \u001b[0m_read\u001b[0m\u001b[1;33m(\u001b[0m\u001b[0mfilepath_or_buffer\u001b[0m\u001b[1;33m,\u001b[0m \u001b[0mkwds\u001b[0m\u001b[1;33m)\u001b[0m\u001b[1;33m\u001b[0m\u001b[0m\n\u001b[0m\u001b[0;32m    710\u001b[0m \u001b[1;33m\u001b[0m\u001b[0m\n\u001b[0;32m    711\u001b[0m     \u001b[0mparser_f\u001b[0m\u001b[1;33m.\u001b[0m\u001b[0m__name__\u001b[0m \u001b[1;33m=\u001b[0m \u001b[0mname\u001b[0m\u001b[1;33m\u001b[0m\u001b[0m\n",
      "\u001b[1;32m~\\Anaconda3\\lib\\site-packages\\pandas\\io\\parsers.py\u001b[0m in \u001b[0;36m_read\u001b[1;34m(filepath_or_buffer, kwds)\u001b[0m\n\u001b[0;32m    447\u001b[0m \u001b[1;33m\u001b[0m\u001b[0m\n\u001b[0;32m    448\u001b[0m     \u001b[1;31m# Create the parser.\u001b[0m\u001b[1;33m\u001b[0m\u001b[1;33m\u001b[0m\u001b[0m\n\u001b[1;32m--> 449\u001b[1;33m     \u001b[0mparser\u001b[0m \u001b[1;33m=\u001b[0m \u001b[0mTextFileReader\u001b[0m\u001b[1;33m(\u001b[0m\u001b[0mfilepath_or_buffer\u001b[0m\u001b[1;33m,\u001b[0m \u001b[1;33m**\u001b[0m\u001b[0mkwds\u001b[0m\u001b[1;33m)\u001b[0m\u001b[1;33m\u001b[0m\u001b[0m\n\u001b[0m\u001b[0;32m    450\u001b[0m \u001b[1;33m\u001b[0m\u001b[0m\n\u001b[0;32m    451\u001b[0m     \u001b[1;32mif\u001b[0m \u001b[0mchunksize\u001b[0m \u001b[1;32mor\u001b[0m \u001b[0miterator\u001b[0m\u001b[1;33m:\u001b[0m\u001b[1;33m\u001b[0m\u001b[0m\n",
      "\u001b[1;32m~\\Anaconda3\\lib\\site-packages\\pandas\\io\\parsers.py\u001b[0m in \u001b[0;36m__init__\u001b[1;34m(self, f, engine, **kwds)\u001b[0m\n\u001b[0;32m    816\u001b[0m             \u001b[0mself\u001b[0m\u001b[1;33m.\u001b[0m\u001b[0moptions\u001b[0m\u001b[1;33m[\u001b[0m\u001b[1;34m'has_index_names'\u001b[0m\u001b[1;33m]\u001b[0m \u001b[1;33m=\u001b[0m \u001b[0mkwds\u001b[0m\u001b[1;33m[\u001b[0m\u001b[1;34m'has_index_names'\u001b[0m\u001b[1;33m]\u001b[0m\u001b[1;33m\u001b[0m\u001b[0m\n\u001b[0;32m    817\u001b[0m \u001b[1;33m\u001b[0m\u001b[0m\n\u001b[1;32m--> 818\u001b[1;33m         \u001b[0mself\u001b[0m\u001b[1;33m.\u001b[0m\u001b[0m_make_engine\u001b[0m\u001b[1;33m(\u001b[0m\u001b[0mself\u001b[0m\u001b[1;33m.\u001b[0m\u001b[0mengine\u001b[0m\u001b[1;33m)\u001b[0m\u001b[1;33m\u001b[0m\u001b[0m\n\u001b[0m\u001b[0;32m    819\u001b[0m \u001b[1;33m\u001b[0m\u001b[0m\n\u001b[0;32m    820\u001b[0m     \u001b[1;32mdef\u001b[0m \u001b[0mclose\u001b[0m\u001b[1;33m(\u001b[0m\u001b[0mself\u001b[0m\u001b[1;33m)\u001b[0m\u001b[1;33m:\u001b[0m\u001b[1;33m\u001b[0m\u001b[0m\n",
      "\u001b[1;32m~\\Anaconda3\\lib\\site-packages\\pandas\\io\\parsers.py\u001b[0m in \u001b[0;36m_make_engine\u001b[1;34m(self, engine)\u001b[0m\n\u001b[0;32m   1047\u001b[0m     \u001b[1;32mdef\u001b[0m \u001b[0m_make_engine\u001b[0m\u001b[1;33m(\u001b[0m\u001b[0mself\u001b[0m\u001b[1;33m,\u001b[0m \u001b[0mengine\u001b[0m\u001b[1;33m=\u001b[0m\u001b[1;34m'c'\u001b[0m\u001b[1;33m)\u001b[0m\u001b[1;33m:\u001b[0m\u001b[1;33m\u001b[0m\u001b[0m\n\u001b[0;32m   1048\u001b[0m         \u001b[1;32mif\u001b[0m \u001b[0mengine\u001b[0m \u001b[1;33m==\u001b[0m \u001b[1;34m'c'\u001b[0m\u001b[1;33m:\u001b[0m\u001b[1;33m\u001b[0m\u001b[0m\n\u001b[1;32m-> 1049\u001b[1;33m             \u001b[0mself\u001b[0m\u001b[1;33m.\u001b[0m\u001b[0m_engine\u001b[0m \u001b[1;33m=\u001b[0m \u001b[0mCParserWrapper\u001b[0m\u001b[1;33m(\u001b[0m\u001b[0mself\u001b[0m\u001b[1;33m.\u001b[0m\u001b[0mf\u001b[0m\u001b[1;33m,\u001b[0m \u001b[1;33m**\u001b[0m\u001b[0mself\u001b[0m\u001b[1;33m.\u001b[0m\u001b[0moptions\u001b[0m\u001b[1;33m)\u001b[0m\u001b[1;33m\u001b[0m\u001b[0m\n\u001b[0m\u001b[0;32m   1050\u001b[0m         \u001b[1;32melse\u001b[0m\u001b[1;33m:\u001b[0m\u001b[1;33m\u001b[0m\u001b[0m\n\u001b[0;32m   1051\u001b[0m             \u001b[1;32mif\u001b[0m \u001b[0mengine\u001b[0m \u001b[1;33m==\u001b[0m \u001b[1;34m'python'\u001b[0m\u001b[1;33m:\u001b[0m\u001b[1;33m\u001b[0m\u001b[0m\n",
      "\u001b[1;32m~\\Anaconda3\\lib\\site-packages\\pandas\\io\\parsers.py\u001b[0m in \u001b[0;36m__init__\u001b[1;34m(self, src, **kwds)\u001b[0m\n\u001b[0;32m   1693\u001b[0m         \u001b[0mkwds\u001b[0m\u001b[1;33m[\u001b[0m\u001b[1;34m'allow_leading_cols'\u001b[0m\u001b[1;33m]\u001b[0m \u001b[1;33m=\u001b[0m \u001b[0mself\u001b[0m\u001b[1;33m.\u001b[0m\u001b[0mindex_col\u001b[0m \u001b[1;32mis\u001b[0m \u001b[1;32mnot\u001b[0m \u001b[1;32mFalse\u001b[0m\u001b[1;33m\u001b[0m\u001b[0m\n\u001b[0;32m   1694\u001b[0m \u001b[1;33m\u001b[0m\u001b[0m\n\u001b[1;32m-> 1695\u001b[1;33m         \u001b[0mself\u001b[0m\u001b[1;33m.\u001b[0m\u001b[0m_reader\u001b[0m \u001b[1;33m=\u001b[0m \u001b[0mparsers\u001b[0m\u001b[1;33m.\u001b[0m\u001b[0mTextReader\u001b[0m\u001b[1;33m(\u001b[0m\u001b[0msrc\u001b[0m\u001b[1;33m,\u001b[0m \u001b[1;33m**\u001b[0m\u001b[0mkwds\u001b[0m\u001b[1;33m)\u001b[0m\u001b[1;33m\u001b[0m\u001b[0m\n\u001b[0m\u001b[0;32m   1696\u001b[0m \u001b[1;33m\u001b[0m\u001b[0m\n\u001b[0;32m   1697\u001b[0m         \u001b[1;31m# XXX\u001b[0m\u001b[1;33m\u001b[0m\u001b[1;33m\u001b[0m\u001b[0m\n",
      "\u001b[1;32mpandas/_libs/parsers.pyx\u001b[0m in \u001b[0;36mpandas._libs.parsers.TextReader.__cinit__\u001b[1;34m()\u001b[0m\n",
      "\u001b[1;32mpandas/_libs/parsers.pyx\u001b[0m in \u001b[0;36mpandas._libs.parsers.TextReader._setup_parser_source\u001b[1;34m()\u001b[0m\n",
      "\u001b[1;31mFileNotFoundError\u001b[0m: File b'/Users/metal/Desktop/data/europe.csv' does not exist"
     ]
    }
   ],
   "source": [
    "data = pd.read_csv('/Users/metal/Desktop/data/europe.csv')\n",
    "print(data)"
   ]
  },
  {
   "cell_type": "code",
   "execution_count": 125,
   "metadata": {},
   "outputs": [
    {
     "name": "stdout",
     "output_type": "stream",
     "text": [
      "                   country  gdpPercap_1952  gdpPercap_1957  gdpPercap_1962  \\\n",
      "0                  Albania     1601.056136     1942.284244     2312.888958   \n",
      "1                  Austria     6137.076492     8842.598030    10750.721110   \n",
      "2                  Belgium     8343.105127     9714.960623    10991.206760   \n",
      "3   Bosnia and Herzegovina      973.533195     1353.989176     1709.683679   \n",
      "4                 Bulgaria     2444.286648     3008.670727     4254.337839   \n",
      "5                  Croatia     3119.236520     4338.231617     5477.890018   \n",
      "6           Czech Republic     6876.140250     8256.343918    10136.867130   \n",
      "7                  Denmark     9692.385245    11099.659350    13583.313510   \n",
      "8                  Finland     6424.519071     7545.415386     9371.842561   \n",
      "9                   France     7029.809327     8662.834898    10560.485530   \n",
      "10                 Germany     7144.114393    10187.826650    12902.462910   \n",
      "11                  Greece     3530.690067     4916.299889     6017.190733   \n",
      "12                 Hungary     5263.673816     6040.180011     7550.359877   \n",
      "13                 Iceland     7267.688428     9244.001412    10350.159060   \n",
      "14                 Ireland     5210.280328     5599.077872     6631.597314   \n",
      "15                   Italy     4931.404155     6248.656232     8243.582340   \n",
      "16              Montenegro     2647.585601     3682.259903     4649.593785   \n",
      "17             Netherlands     8941.571858    11276.193440    12790.849560   \n",
      "18                  Norway    10095.421720    11653.973040    13450.401510   \n",
      "19                  Poland     4029.329699     4734.253019     5338.752143   \n",
      "20                Portugal     3068.319867     3774.571743     4727.954889   \n",
      "21                 Romania     3144.613186     3943.370225     4734.997586   \n",
      "22                  Serbia     3581.459448     4981.090891     6289.629157   \n",
      "23         Slovak Republic     5074.659104     6093.262980     7481.107598   \n",
      "24                Slovenia     4215.041741     5862.276629     7402.303395   \n",
      "25                   Spain     3834.034742     4564.802410     5693.843879   \n",
      "26                  Sweden     8527.844662     9911.878226    12329.441920   \n",
      "27             Switzerland    14734.232750    17909.489730    20431.092700   \n",
      "28                  Turkey     1969.100980     2218.754257     2322.869908   \n",
      "29          United Kingdom     9979.508487    11283.177950    12477.177070   \n",
      "\n",
      "    gdpPercap_1967  gdpPercap_1972  gdpPercap_1977  gdpPercap_1982  \\\n",
      "0      2760.196931     3313.422188     3533.003910     3630.880722   \n",
      "1     12834.602400    16661.625600    19749.422300    21597.083620   \n",
      "2     13149.041190    16672.143560    19117.974480    20979.845890   \n",
      "3      2172.352423     2860.169750     3528.481305     4126.613157   \n",
      "4      5577.002800     6597.494398     7612.240438     8224.191647   \n",
      "5      6960.297861     9164.090127    11305.385170    13221.821840   \n",
      "6     11399.444890    13108.453600    14800.160620    15377.228550   \n",
      "7     15937.211230    18866.207210    20422.901500    21688.040480   \n",
      "8     10921.636260    14358.875900    15605.422830    18533.157610   \n",
      "9     12999.917660    16107.191710    18292.635140    20293.897460   \n",
      "10    14745.625610    18016.180270    20512.921230    22031.532740   \n",
      "11     8513.097016    12724.829570    14195.524280    15268.420890   \n",
      "12     9326.644670    10168.656110    11674.837370    12545.990660   \n",
      "13    13319.895680    15798.063620    19654.962470    23269.607500   \n",
      "14     7655.568963     9530.772896    11150.981130    12618.321410   \n",
      "15    10022.401310    12269.273780    14255.984750    16537.483500   \n",
      "16     5907.850937     7778.414017     9595.929905    11222.587620   \n",
      "17    15363.251360    18794.745670    21209.059200    21399.460460   \n",
      "18    16361.876470    18965.055510    23311.349390    26298.635310   \n",
      "19     6557.152776     8006.506993     9508.141454     8451.531004   \n",
      "20     6361.517993     9022.247417    10172.485720    11753.842910   \n",
      "21     6470.866545     8011.414402     9356.397240     9605.314053   \n",
      "22     7991.707066    10522.067490    12980.669560    15181.092700   \n",
      "23     8412.902397     9674.167626    10922.664040    11348.545850   \n",
      "24     9405.489397    12383.486200    15277.030170    17866.721750   \n",
      "25     7993.512294    10638.751310    13236.921170    13926.169970   \n",
      "26    15258.296970    17832.024640    18855.725210    20667.381250   \n",
      "27    22966.144320    27195.113040    26982.290520    28397.715120   \n",
      "28     2826.356387     3450.696380     4269.122326     4241.356344   \n",
      "29    14142.850890    15895.116410    17428.748460    18232.424520   \n",
      "\n",
      "    gdpPercap_1987  gdpPercap_1992  gdpPercap_1997  gdpPercap_2002  \\\n",
      "0      3738.932735     2497.437901     3193.054604     4604.211737   \n",
      "1     23687.826070    27042.018680    29095.920660    32417.607690   \n",
      "2     22525.563080    25575.570690    27561.196630    30485.883750   \n",
      "3      4314.114757     2546.781445     4766.355904     6018.975239   \n",
      "4      8239.854824     6302.623438     5970.388760     7696.777725   \n",
      "5     13822.583940     8447.794873     9875.604515    11628.388950   \n",
      "6     16310.443400    14297.021220    16048.514240    17596.210220   \n",
      "7     25116.175810    26406.739850    29804.345670    32166.500060   \n",
      "8     21141.012230    20647.164990    23723.950200    28204.590570   \n",
      "9     22066.442140    24703.796150    25889.784870    28926.032340   \n",
      "10    24639.185660    26505.303170    27788.884160    30035.801980   \n",
      "11    16120.528390    17541.496340    18747.698140    22514.254800   \n",
      "12    12986.479980    10535.628550    11712.776800    14843.935560   \n",
      "13    26923.206280    25144.392010    28061.099660    31163.201960   \n",
      "14    13872.866520    17558.815550    24521.947130    34077.049390   \n",
      "15    19207.234820    22013.644860    24675.024460    27968.098170   \n",
      "16    11732.510170     7003.339037     6465.613349     6557.194282   \n",
      "17    23651.323610    26790.949610    30246.130630    33724.757780   \n",
      "18    31540.974800    33965.661150    41283.164330    44683.975250   \n",
      "19     9082.351172     7738.881247    10159.583680    12002.239080   \n",
      "20    13039.308760    16207.266630    17641.031560    19970.907870   \n",
      "21     9696.273295     6598.409903     7346.547557     7885.360081   \n",
      "22    15870.878510     9325.068238     7914.320304     7236.075251   \n",
      "23    12037.267580     9498.467723    12126.230650    13638.778370   \n",
      "24    18678.534920    14214.716810    17161.107350    20660.019360   \n",
      "25    15764.983130    18603.064520    20445.298960    24835.471660   \n",
      "26    23586.929270    23880.016830    25266.594990    29341.630930   \n",
      "27    30281.704590    31871.530300    32135.323010    34480.957710   \n",
      "28     5089.043686     5678.348271     6601.429915     6508.085718   \n",
      "29    21664.787670    22705.092540    26074.531360    29478.999190   \n",
      "\n",
      "    gdpPercap_2007  \n",
      "0      5937.029526  \n",
      "1     36126.492700  \n",
      "2     33692.605080  \n",
      "3      7446.298803  \n",
      "4     10680.792820  \n",
      "5     14619.222720  \n",
      "6     22833.308510  \n",
      "7     35278.418740  \n",
      "8     33207.084400  \n",
      "9     30470.016700  \n",
      "10    32170.374420  \n",
      "11    27538.411880  \n",
      "12    18008.944440  \n",
      "13    36180.789190  \n",
      "14    40675.996350  \n",
      "15    28569.719700  \n",
      "16     9253.896111  \n",
      "17    36797.933320  \n",
      "18    49357.190170  \n",
      "19    15389.924680  \n",
      "20    20509.647770  \n",
      "21    10808.475610  \n",
      "22     9786.534714  \n",
      "23    18678.314350  \n",
      "24    25768.257590  \n",
      "25    28821.063700  \n",
      "26    33859.748350  \n",
      "27    37506.419070  \n",
      "28     8458.276384  \n",
      "29    33203.261280  \n"
     ]
    }
   ],
   "source": [
    "data = pd.read_csv('/Users/metal/Desktop/data/gapminder_gdp_europe.csv')\n",
    "print(data)"
   ]
  },
  {
   "cell_type": "code",
   "execution_count": 127,
   "metadata": {},
   "outputs": [
    {
     "name": "stdout",
     "output_type": "stream",
     "text": [
      "                        gdpPercap_1952  gdpPercap_1957  gdpPercap_1962  \\\n",
      "country                                                                  \n",
      "Albania                    1601.056136     1942.284244     2312.888958   \n",
      "Austria                    6137.076492     8842.598030    10750.721110   \n",
      "Belgium                    8343.105127     9714.960623    10991.206760   \n",
      "Bosnia and Herzegovina      973.533195     1353.989176     1709.683679   \n",
      "Bulgaria                   2444.286648     3008.670727     4254.337839   \n",
      "Croatia                    3119.236520     4338.231617     5477.890018   \n",
      "Czech Republic             6876.140250     8256.343918    10136.867130   \n",
      "Denmark                    9692.385245    11099.659350    13583.313510   \n",
      "Finland                    6424.519071     7545.415386     9371.842561   \n",
      "France                     7029.809327     8662.834898    10560.485530   \n",
      "Germany                    7144.114393    10187.826650    12902.462910   \n",
      "Greece                     3530.690067     4916.299889     6017.190733   \n",
      "Hungary                    5263.673816     6040.180011     7550.359877   \n",
      "Iceland                    7267.688428     9244.001412    10350.159060   \n",
      "Ireland                    5210.280328     5599.077872     6631.597314   \n",
      "Italy                      4931.404155     6248.656232     8243.582340   \n",
      "Montenegro                 2647.585601     3682.259903     4649.593785   \n",
      "Netherlands                8941.571858    11276.193440    12790.849560   \n",
      "Norway                    10095.421720    11653.973040    13450.401510   \n",
      "Poland                     4029.329699     4734.253019     5338.752143   \n",
      "Portugal                   3068.319867     3774.571743     4727.954889   \n",
      "Romania                    3144.613186     3943.370225     4734.997586   \n",
      "Serbia                     3581.459448     4981.090891     6289.629157   \n",
      "Slovak Republic            5074.659104     6093.262980     7481.107598   \n",
      "Slovenia                   4215.041741     5862.276629     7402.303395   \n",
      "Spain                      3834.034742     4564.802410     5693.843879   \n",
      "Sweden                     8527.844662     9911.878226    12329.441920   \n",
      "Switzerland               14734.232750    17909.489730    20431.092700   \n",
      "Turkey                     1969.100980     2218.754257     2322.869908   \n",
      "United Kingdom             9979.508487    11283.177950    12477.177070   \n",
      "\n",
      "                        gdpPercap_1967  gdpPercap_1972  gdpPercap_1977  \\\n",
      "country                                                                  \n",
      "Albania                    2760.196931     3313.422188     3533.003910   \n",
      "Austria                   12834.602400    16661.625600    19749.422300   \n",
      "Belgium                   13149.041190    16672.143560    19117.974480   \n",
      "Bosnia and Herzegovina     2172.352423     2860.169750     3528.481305   \n",
      "Bulgaria                   5577.002800     6597.494398     7612.240438   \n",
      "Croatia                    6960.297861     9164.090127    11305.385170   \n",
      "Czech Republic            11399.444890    13108.453600    14800.160620   \n",
      "Denmark                   15937.211230    18866.207210    20422.901500   \n",
      "Finland                   10921.636260    14358.875900    15605.422830   \n",
      "France                    12999.917660    16107.191710    18292.635140   \n",
      "Germany                   14745.625610    18016.180270    20512.921230   \n",
      "Greece                     8513.097016    12724.829570    14195.524280   \n",
      "Hungary                    9326.644670    10168.656110    11674.837370   \n",
      "Iceland                   13319.895680    15798.063620    19654.962470   \n",
      "Ireland                    7655.568963     9530.772896    11150.981130   \n",
      "Italy                     10022.401310    12269.273780    14255.984750   \n",
      "Montenegro                 5907.850937     7778.414017     9595.929905   \n",
      "Netherlands               15363.251360    18794.745670    21209.059200   \n",
      "Norway                    16361.876470    18965.055510    23311.349390   \n",
      "Poland                     6557.152776     8006.506993     9508.141454   \n",
      "Portugal                   6361.517993     9022.247417    10172.485720   \n",
      "Romania                    6470.866545     8011.414402     9356.397240   \n",
      "Serbia                     7991.707066    10522.067490    12980.669560   \n",
      "Slovak Republic            8412.902397     9674.167626    10922.664040   \n",
      "Slovenia                   9405.489397    12383.486200    15277.030170   \n",
      "Spain                      7993.512294    10638.751310    13236.921170   \n",
      "Sweden                    15258.296970    17832.024640    18855.725210   \n",
      "Switzerland               22966.144320    27195.113040    26982.290520   \n",
      "Turkey                     2826.356387     3450.696380     4269.122326   \n",
      "United Kingdom            14142.850890    15895.116410    17428.748460   \n",
      "\n",
      "                        gdpPercap_1982  gdpPercap_1987  gdpPercap_1992  \\\n",
      "country                                                                  \n",
      "Albania                    3630.880722     3738.932735     2497.437901   \n",
      "Austria                   21597.083620    23687.826070    27042.018680   \n",
      "Belgium                   20979.845890    22525.563080    25575.570690   \n",
      "Bosnia and Herzegovina     4126.613157     4314.114757     2546.781445   \n",
      "Bulgaria                   8224.191647     8239.854824     6302.623438   \n",
      "Croatia                   13221.821840    13822.583940     8447.794873   \n",
      "Czech Republic            15377.228550    16310.443400    14297.021220   \n",
      "Denmark                   21688.040480    25116.175810    26406.739850   \n",
      "Finland                   18533.157610    21141.012230    20647.164990   \n",
      "France                    20293.897460    22066.442140    24703.796150   \n",
      "Germany                   22031.532740    24639.185660    26505.303170   \n",
      "Greece                    15268.420890    16120.528390    17541.496340   \n",
      "Hungary                   12545.990660    12986.479980    10535.628550   \n",
      "Iceland                   23269.607500    26923.206280    25144.392010   \n",
      "Ireland                   12618.321410    13872.866520    17558.815550   \n",
      "Italy                     16537.483500    19207.234820    22013.644860   \n",
      "Montenegro                11222.587620    11732.510170     7003.339037   \n",
      "Netherlands               21399.460460    23651.323610    26790.949610   \n",
      "Norway                    26298.635310    31540.974800    33965.661150   \n",
      "Poland                     8451.531004     9082.351172     7738.881247   \n",
      "Portugal                  11753.842910    13039.308760    16207.266630   \n",
      "Romania                    9605.314053     9696.273295     6598.409903   \n",
      "Serbia                    15181.092700    15870.878510     9325.068238   \n",
      "Slovak Republic           11348.545850    12037.267580     9498.467723   \n",
      "Slovenia                  17866.721750    18678.534920    14214.716810   \n",
      "Spain                     13926.169970    15764.983130    18603.064520   \n",
      "Sweden                    20667.381250    23586.929270    23880.016830   \n",
      "Switzerland               28397.715120    30281.704590    31871.530300   \n",
      "Turkey                     4241.356344     5089.043686     5678.348271   \n",
      "United Kingdom            18232.424520    21664.787670    22705.092540   \n",
      "\n",
      "                        gdpPercap_1997  gdpPercap_2002  gdpPercap_2007  \n",
      "country                                                                 \n",
      "Albania                    3193.054604     4604.211737     5937.029526  \n",
      "Austria                   29095.920660    32417.607690    36126.492700  \n",
      "Belgium                   27561.196630    30485.883750    33692.605080  \n",
      "Bosnia and Herzegovina     4766.355904     6018.975239     7446.298803  \n",
      "Bulgaria                   5970.388760     7696.777725    10680.792820  \n",
      "Croatia                    9875.604515    11628.388950    14619.222720  \n",
      "Czech Republic            16048.514240    17596.210220    22833.308510  \n",
      "Denmark                   29804.345670    32166.500060    35278.418740  \n",
      "Finland                   23723.950200    28204.590570    33207.084400  \n",
      "France                    25889.784870    28926.032340    30470.016700  \n",
      "Germany                   27788.884160    30035.801980    32170.374420  \n",
      "Greece                    18747.698140    22514.254800    27538.411880  \n",
      "Hungary                   11712.776800    14843.935560    18008.944440  \n",
      "Iceland                   28061.099660    31163.201960    36180.789190  \n",
      "Ireland                   24521.947130    34077.049390    40675.996350  \n",
      "Italy                     24675.024460    27968.098170    28569.719700  \n",
      "Montenegro                 6465.613349     6557.194282     9253.896111  \n",
      "Netherlands               30246.130630    33724.757780    36797.933320  \n",
      "Norway                    41283.164330    44683.975250    49357.190170  \n",
      "Poland                    10159.583680    12002.239080    15389.924680  \n",
      "Portugal                  17641.031560    19970.907870    20509.647770  \n",
      "Romania                    7346.547557     7885.360081    10808.475610  \n",
      "Serbia                     7914.320304     7236.075251     9786.534714  \n",
      "Slovak Republic           12126.230650    13638.778370    18678.314350  \n",
      "Slovenia                  17161.107350    20660.019360    25768.257590  \n",
      "Spain                     20445.298960    24835.471660    28821.063700  \n",
      "Sweden                    25266.594990    29341.630930    33859.748350  \n",
      "Switzerland               32135.323010    34480.957710    37506.419070  \n",
      "Turkey                     6601.429915     6508.085718     8458.276384  \n",
      "United Kingdom            26074.531360    29478.999190    33203.261280  \n"
     ]
    }
   ],
   "source": [
    "data = pd.read_csv('/Users/metal/Desktop/data/gapminder_gdp_europe.csv',index_col='country')\n",
    "print(data)"
   ]
  },
  {
   "cell_type": "code",
   "execution_count": 128,
   "metadata": {},
   "outputs": [
    {
     "data": {
      "text/plain": [
       "<bound method DataFrame.info of                         gdpPercap_1952  gdpPercap_1957  gdpPercap_1962  \\\n",
       "country                                                                  \n",
       "Albania                    1601.056136     1942.284244     2312.888958   \n",
       "Austria                    6137.076492     8842.598030    10750.721110   \n",
       "Belgium                    8343.105127     9714.960623    10991.206760   \n",
       "Bosnia and Herzegovina      973.533195     1353.989176     1709.683679   \n",
       "Bulgaria                   2444.286648     3008.670727     4254.337839   \n",
       "Croatia                    3119.236520     4338.231617     5477.890018   \n",
       "Czech Republic             6876.140250     8256.343918    10136.867130   \n",
       "Denmark                    9692.385245    11099.659350    13583.313510   \n",
       "Finland                    6424.519071     7545.415386     9371.842561   \n",
       "France                     7029.809327     8662.834898    10560.485530   \n",
       "Germany                    7144.114393    10187.826650    12902.462910   \n",
       "Greece                     3530.690067     4916.299889     6017.190733   \n",
       "Hungary                    5263.673816     6040.180011     7550.359877   \n",
       "Iceland                    7267.688428     9244.001412    10350.159060   \n",
       "Ireland                    5210.280328     5599.077872     6631.597314   \n",
       "Italy                      4931.404155     6248.656232     8243.582340   \n",
       "Montenegro                 2647.585601     3682.259903     4649.593785   \n",
       "Netherlands                8941.571858    11276.193440    12790.849560   \n",
       "Norway                    10095.421720    11653.973040    13450.401510   \n",
       "Poland                     4029.329699     4734.253019     5338.752143   \n",
       "Portugal                   3068.319867     3774.571743     4727.954889   \n",
       "Romania                    3144.613186     3943.370225     4734.997586   \n",
       "Serbia                     3581.459448     4981.090891     6289.629157   \n",
       "Slovak Republic            5074.659104     6093.262980     7481.107598   \n",
       "Slovenia                   4215.041741     5862.276629     7402.303395   \n",
       "Spain                      3834.034742     4564.802410     5693.843879   \n",
       "Sweden                     8527.844662     9911.878226    12329.441920   \n",
       "Switzerland               14734.232750    17909.489730    20431.092700   \n",
       "Turkey                     1969.100980     2218.754257     2322.869908   \n",
       "United Kingdom             9979.508487    11283.177950    12477.177070   \n",
       "\n",
       "                        gdpPercap_1967  gdpPercap_1972  gdpPercap_1977  \\\n",
       "country                                                                  \n",
       "Albania                    2760.196931     3313.422188     3533.003910   \n",
       "Austria                   12834.602400    16661.625600    19749.422300   \n",
       "Belgium                   13149.041190    16672.143560    19117.974480   \n",
       "Bosnia and Herzegovina     2172.352423     2860.169750     3528.481305   \n",
       "Bulgaria                   5577.002800     6597.494398     7612.240438   \n",
       "Croatia                    6960.297861     9164.090127    11305.385170   \n",
       "Czech Republic            11399.444890    13108.453600    14800.160620   \n",
       "Denmark                   15937.211230    18866.207210    20422.901500   \n",
       "Finland                   10921.636260    14358.875900    15605.422830   \n",
       "France                    12999.917660    16107.191710    18292.635140   \n",
       "Germany                   14745.625610    18016.180270    20512.921230   \n",
       "Greece                     8513.097016    12724.829570    14195.524280   \n",
       "Hungary                    9326.644670    10168.656110    11674.837370   \n",
       "Iceland                   13319.895680    15798.063620    19654.962470   \n",
       "Ireland                    7655.568963     9530.772896    11150.981130   \n",
       "Italy                     10022.401310    12269.273780    14255.984750   \n",
       "Montenegro                 5907.850937     7778.414017     9595.929905   \n",
       "Netherlands               15363.251360    18794.745670    21209.059200   \n",
       "Norway                    16361.876470    18965.055510    23311.349390   \n",
       "Poland                     6557.152776     8006.506993     9508.141454   \n",
       "Portugal                   6361.517993     9022.247417    10172.485720   \n",
       "Romania                    6470.866545     8011.414402     9356.397240   \n",
       "Serbia                     7991.707066    10522.067490    12980.669560   \n",
       "Slovak Republic            8412.902397     9674.167626    10922.664040   \n",
       "Slovenia                   9405.489397    12383.486200    15277.030170   \n",
       "Spain                      7993.512294    10638.751310    13236.921170   \n",
       "Sweden                    15258.296970    17832.024640    18855.725210   \n",
       "Switzerland               22966.144320    27195.113040    26982.290520   \n",
       "Turkey                     2826.356387     3450.696380     4269.122326   \n",
       "United Kingdom            14142.850890    15895.116410    17428.748460   \n",
       "\n",
       "                        gdpPercap_1982  gdpPercap_1987  gdpPercap_1992  \\\n",
       "country                                                                  \n",
       "Albania                    3630.880722     3738.932735     2497.437901   \n",
       "Austria                   21597.083620    23687.826070    27042.018680   \n",
       "Belgium                   20979.845890    22525.563080    25575.570690   \n",
       "Bosnia and Herzegovina     4126.613157     4314.114757     2546.781445   \n",
       "Bulgaria                   8224.191647     8239.854824     6302.623438   \n",
       "Croatia                   13221.821840    13822.583940     8447.794873   \n",
       "Czech Republic            15377.228550    16310.443400    14297.021220   \n",
       "Denmark                   21688.040480    25116.175810    26406.739850   \n",
       "Finland                   18533.157610    21141.012230    20647.164990   \n",
       "France                    20293.897460    22066.442140    24703.796150   \n",
       "Germany                   22031.532740    24639.185660    26505.303170   \n",
       "Greece                    15268.420890    16120.528390    17541.496340   \n",
       "Hungary                   12545.990660    12986.479980    10535.628550   \n",
       "Iceland                   23269.607500    26923.206280    25144.392010   \n",
       "Ireland                   12618.321410    13872.866520    17558.815550   \n",
       "Italy                     16537.483500    19207.234820    22013.644860   \n",
       "Montenegro                11222.587620    11732.510170     7003.339037   \n",
       "Netherlands               21399.460460    23651.323610    26790.949610   \n",
       "Norway                    26298.635310    31540.974800    33965.661150   \n",
       "Poland                     8451.531004     9082.351172     7738.881247   \n",
       "Portugal                  11753.842910    13039.308760    16207.266630   \n",
       "Romania                    9605.314053     9696.273295     6598.409903   \n",
       "Serbia                    15181.092700    15870.878510     9325.068238   \n",
       "Slovak Republic           11348.545850    12037.267580     9498.467723   \n",
       "Slovenia                  17866.721750    18678.534920    14214.716810   \n",
       "Spain                     13926.169970    15764.983130    18603.064520   \n",
       "Sweden                    20667.381250    23586.929270    23880.016830   \n",
       "Switzerland               28397.715120    30281.704590    31871.530300   \n",
       "Turkey                     4241.356344     5089.043686     5678.348271   \n",
       "United Kingdom            18232.424520    21664.787670    22705.092540   \n",
       "\n",
       "                        gdpPercap_1997  gdpPercap_2002  gdpPercap_2007  \n",
       "country                                                                 \n",
       "Albania                    3193.054604     4604.211737     5937.029526  \n",
       "Austria                   29095.920660    32417.607690    36126.492700  \n",
       "Belgium                   27561.196630    30485.883750    33692.605080  \n",
       "Bosnia and Herzegovina     4766.355904     6018.975239     7446.298803  \n",
       "Bulgaria                   5970.388760     7696.777725    10680.792820  \n",
       "Croatia                    9875.604515    11628.388950    14619.222720  \n",
       "Czech Republic            16048.514240    17596.210220    22833.308510  \n",
       "Denmark                   29804.345670    32166.500060    35278.418740  \n",
       "Finland                   23723.950200    28204.590570    33207.084400  \n",
       "France                    25889.784870    28926.032340    30470.016700  \n",
       "Germany                   27788.884160    30035.801980    32170.374420  \n",
       "Greece                    18747.698140    22514.254800    27538.411880  \n",
       "Hungary                   11712.776800    14843.935560    18008.944440  \n",
       "Iceland                   28061.099660    31163.201960    36180.789190  \n",
       "Ireland                   24521.947130    34077.049390    40675.996350  \n",
       "Italy                     24675.024460    27968.098170    28569.719700  \n",
       "Montenegro                 6465.613349     6557.194282     9253.896111  \n",
       "Netherlands               30246.130630    33724.757780    36797.933320  \n",
       "Norway                    41283.164330    44683.975250    49357.190170  \n",
       "Poland                    10159.583680    12002.239080    15389.924680  \n",
       "Portugal                  17641.031560    19970.907870    20509.647770  \n",
       "Romania                    7346.547557     7885.360081    10808.475610  \n",
       "Serbia                     7914.320304     7236.075251     9786.534714  \n",
       "Slovak Republic           12126.230650    13638.778370    18678.314350  \n",
       "Slovenia                  17161.107350    20660.019360    25768.257590  \n",
       "Spain                     20445.298960    24835.471660    28821.063700  \n",
       "Sweden                    25266.594990    29341.630930    33859.748350  \n",
       "Switzerland               32135.323010    34480.957710    37506.419070  \n",
       "Turkey                     6601.429915     6508.085718     8458.276384  \n",
       "United Kingdom            26074.531360    29478.999190    33203.261280  >"
      ]
     },
     "execution_count": 128,
     "metadata": {},
     "output_type": "execute_result"
    }
   ],
   "source": [
    "data.info"
   ]
  },
  {
   "cell_type": "code",
   "execution_count": 129,
   "metadata": {},
   "outputs": [
    {
     "name": "stdout",
     "output_type": "stream",
     "text": [
      "country             Albania       Austria       Belgium  \\\n",
      "gdpPercap_1952  1601.056136   6137.076492   8343.105127   \n",
      "gdpPercap_1957  1942.284244   8842.598030   9714.960623   \n",
      "gdpPercap_1962  2312.888958  10750.721110  10991.206760   \n",
      "gdpPercap_1967  2760.196931  12834.602400  13149.041190   \n",
      "gdpPercap_1972  3313.422188  16661.625600  16672.143560   \n",
      "gdpPercap_1977  3533.003910  19749.422300  19117.974480   \n",
      "gdpPercap_1982  3630.880722  21597.083620  20979.845890   \n",
      "gdpPercap_1987  3738.932735  23687.826070  22525.563080   \n",
      "gdpPercap_1992  2497.437901  27042.018680  25575.570690   \n",
      "gdpPercap_1997  3193.054604  29095.920660  27561.196630   \n",
      "gdpPercap_2002  4604.211737  32417.607690  30485.883750   \n",
      "gdpPercap_2007  5937.029526  36126.492700  33692.605080   \n",
      "\n",
      "country         Bosnia and Herzegovina      Bulgaria       Croatia  \\\n",
      "gdpPercap_1952              973.533195   2444.286648   3119.236520   \n",
      "gdpPercap_1957             1353.989176   3008.670727   4338.231617   \n",
      "gdpPercap_1962             1709.683679   4254.337839   5477.890018   \n",
      "gdpPercap_1967             2172.352423   5577.002800   6960.297861   \n",
      "gdpPercap_1972             2860.169750   6597.494398   9164.090127   \n",
      "gdpPercap_1977             3528.481305   7612.240438  11305.385170   \n",
      "gdpPercap_1982             4126.613157   8224.191647  13221.821840   \n",
      "gdpPercap_1987             4314.114757   8239.854824  13822.583940   \n",
      "gdpPercap_1992             2546.781445   6302.623438   8447.794873   \n",
      "gdpPercap_1997             4766.355904   5970.388760   9875.604515   \n",
      "gdpPercap_2002             6018.975239   7696.777725  11628.388950   \n",
      "gdpPercap_2007             7446.298803  10680.792820  14619.222720   \n",
      "\n",
      "country         Czech Republic       Denmark       Finland        France  \\\n",
      "gdpPercap_1952     6876.140250   9692.385245   6424.519071   7029.809327   \n",
      "gdpPercap_1957     8256.343918  11099.659350   7545.415386   8662.834898   \n",
      "gdpPercap_1962    10136.867130  13583.313510   9371.842561  10560.485530   \n",
      "gdpPercap_1967    11399.444890  15937.211230  10921.636260  12999.917660   \n",
      "gdpPercap_1972    13108.453600  18866.207210  14358.875900  16107.191710   \n",
      "gdpPercap_1977    14800.160620  20422.901500  15605.422830  18292.635140   \n",
      "gdpPercap_1982    15377.228550  21688.040480  18533.157610  20293.897460   \n",
      "gdpPercap_1987    16310.443400  25116.175810  21141.012230  22066.442140   \n",
      "gdpPercap_1992    14297.021220  26406.739850  20647.164990  24703.796150   \n",
      "gdpPercap_1997    16048.514240  29804.345670  23723.950200  25889.784870   \n",
      "gdpPercap_2002    17596.210220  32166.500060  28204.590570  28926.032340   \n",
      "gdpPercap_2007    22833.308510  35278.418740  33207.084400  30470.016700   \n",
      "\n",
      "country              ...            Portugal       Romania        Serbia  \\\n",
      "gdpPercap_1952       ...         3068.319867   3144.613186   3581.459448   \n",
      "gdpPercap_1957       ...         3774.571743   3943.370225   4981.090891   \n",
      "gdpPercap_1962       ...         4727.954889   4734.997586   6289.629157   \n",
      "gdpPercap_1967       ...         6361.517993   6470.866545   7991.707066   \n",
      "gdpPercap_1972       ...         9022.247417   8011.414402  10522.067490   \n",
      "gdpPercap_1977       ...        10172.485720   9356.397240  12980.669560   \n",
      "gdpPercap_1982       ...        11753.842910   9605.314053  15181.092700   \n",
      "gdpPercap_1987       ...        13039.308760   9696.273295  15870.878510   \n",
      "gdpPercap_1992       ...        16207.266630   6598.409903   9325.068238   \n",
      "gdpPercap_1997       ...        17641.031560   7346.547557   7914.320304   \n",
      "gdpPercap_2002       ...        19970.907870   7885.360081   7236.075251   \n",
      "gdpPercap_2007       ...        20509.647770  10808.475610   9786.534714   \n",
      "\n",
      "country         Slovak Republic      Slovenia         Spain        Sweden  \\\n",
      "gdpPercap_1952      5074.659104   4215.041741   3834.034742   8527.844662   \n",
      "gdpPercap_1957      6093.262980   5862.276629   4564.802410   9911.878226   \n",
      "gdpPercap_1962      7481.107598   7402.303395   5693.843879  12329.441920   \n",
      "gdpPercap_1967      8412.902397   9405.489397   7993.512294  15258.296970   \n",
      "gdpPercap_1972      9674.167626  12383.486200  10638.751310  17832.024640   \n",
      "gdpPercap_1977     10922.664040  15277.030170  13236.921170  18855.725210   \n",
      "gdpPercap_1982     11348.545850  17866.721750  13926.169970  20667.381250   \n",
      "gdpPercap_1987     12037.267580  18678.534920  15764.983130  23586.929270   \n",
      "gdpPercap_1992      9498.467723  14214.716810  18603.064520  23880.016830   \n",
      "gdpPercap_1997     12126.230650  17161.107350  20445.298960  25266.594990   \n",
      "gdpPercap_2002     13638.778370  20660.019360  24835.471660  29341.630930   \n",
      "gdpPercap_2007     18678.314350  25768.257590  28821.063700  33859.748350   \n",
      "\n",
      "country         Switzerland       Turkey  United Kingdom  \n",
      "gdpPercap_1952  14734.23275  1969.100980     9979.508487  \n",
      "gdpPercap_1957  17909.48973  2218.754257    11283.177950  \n",
      "gdpPercap_1962  20431.09270  2322.869908    12477.177070  \n",
      "gdpPercap_1967  22966.14432  2826.356387    14142.850890  \n",
      "gdpPercap_1972  27195.11304  3450.696380    15895.116410  \n",
      "gdpPercap_1977  26982.29052  4269.122326    17428.748460  \n",
      "gdpPercap_1982  28397.71512  4241.356344    18232.424520  \n",
      "gdpPercap_1987  30281.70459  5089.043686    21664.787670  \n",
      "gdpPercap_1992  31871.53030  5678.348271    22705.092540  \n",
      "gdpPercap_1997  32135.32301  6601.429915    26074.531360  \n",
      "gdpPercap_2002  34480.95771  6508.085718    29478.999190  \n",
      "gdpPercap_2007  37506.41907  8458.276384    33203.261280  \n",
      "\n",
      "[12 rows x 30 columns]\n"
     ]
    }
   ],
   "source": [
    "print(data.T)"
   ]
  },
  {
   "cell_type": "code",
   "execution_count": 130,
   "metadata": {},
   "outputs": [
    {
     "name": "stdout",
     "output_type": "stream",
     "text": [
      "1601.056136\n"
     ]
    }
   ],
   "source": [
    "data = pd.read_csv('/Users/metal/Desktop/data/gapminder_gdp_europe.csv',index_col='country')\n",
    "print(data.iloc[0,0]) #gives the first value in the first column"
   ]
  },
  {
   "cell_type": "code",
   "execution_count": 133,
   "metadata": {},
   "outputs": [
    {
     "name": "stdout",
     "output_type": "stream",
     "text": [
      "1601.056136\n"
     ]
    }
   ],
   "source": [
    "print(data.loc[\"Albania\",\"gdpPercap_1952\"])"
   ]
  },
  {
   "cell_type": "code",
   "execution_count": 136,
   "metadata": {},
   "outputs": [
    {
     "name": "stdout",
     "output_type": "stream",
     "text": [
      "gdpPercap_1952    1601.056136\n",
      "gdpPercap_1957    1942.284244\n",
      "gdpPercap_1962    2312.888958\n",
      "gdpPercap_1967    2760.196931\n",
      "gdpPercap_1972    3313.422188\n",
      "gdpPercap_1977    3533.003910\n",
      "gdpPercap_1982    3630.880722\n",
      "gdpPercap_1987    3738.932735\n",
      "gdpPercap_1992    2497.437901\n",
      "gdpPercap_1997    3193.054604\n",
      "gdpPercap_2002    4604.211737\n",
      "gdpPercap_2007    5937.029526\n",
      "Name: Albania, dtype: float64\n"
     ]
    }
   ],
   "source": [
    "print(data.loc['Albania'])"
   ]
  },
  {
   "cell_type": "code",
   "execution_count": 137,
   "metadata": {},
   "outputs": [],
   "source": [
    "#print(data.loc())"
   ]
  },
  {
   "cell_type": "code",
   "execution_count": 138,
   "metadata": {},
   "outputs": [
    {
     "name": "stdout",
     "output_type": "stream",
     "text": [
      "country\n",
      "Albania                    1601.056136\n",
      "Austria                    6137.076492\n",
      "Belgium                    8343.105127\n",
      "Bosnia and Herzegovina      973.533195\n",
      "Bulgaria                   2444.286648\n",
      "Croatia                    3119.236520\n",
      "Czech Republic             6876.140250\n",
      "Denmark                    9692.385245\n",
      "Finland                    6424.519071\n",
      "France                     7029.809327\n",
      "Germany                    7144.114393\n",
      "Greece                     3530.690067\n",
      "Hungary                    5263.673816\n",
      "Iceland                    7267.688428\n",
      "Ireland                    5210.280328\n",
      "Italy                      4931.404155\n",
      "Montenegro                 2647.585601\n",
      "Netherlands                8941.571858\n",
      "Norway                    10095.421720\n",
      "Poland                     4029.329699\n",
      "Portugal                   3068.319867\n",
      "Romania                    3144.613186\n",
      "Serbia                     3581.459448\n",
      "Slovak Republic            5074.659104\n",
      "Slovenia                   4215.041741\n",
      "Spain                      3834.034742\n",
      "Sweden                     8527.844662\n",
      "Switzerland               14734.232750\n",
      "Turkey                     1969.100980\n",
      "United Kingdom             9979.508487\n",
      "Name: gdpPercap_1952, dtype: float64\n"
     ]
    }
   ],
   "source": [
    "print(data.gdpPercap_1952)"
   ]
  },
  {
   "cell_type": "code",
   "execution_count": 139,
   "metadata": {},
   "outputs": [
    {
     "name": "stdout",
     "output_type": "stream",
     "text": [
      "country\n",
      "Albania                    1601.056136\n",
      "Austria                    6137.076492\n",
      "Belgium                    8343.105127\n",
      "Bosnia and Herzegovina      973.533195\n",
      "Bulgaria                   2444.286648\n",
      "Croatia                    3119.236520\n",
      "Czech Republic             6876.140250\n",
      "Denmark                    9692.385245\n",
      "Finland                    6424.519071\n",
      "France                     7029.809327\n",
      "Germany                    7144.114393\n",
      "Greece                     3530.690067\n",
      "Hungary                    5263.673816\n",
      "Iceland                    7267.688428\n",
      "Ireland                    5210.280328\n",
      "Italy                      4931.404155\n",
      "Montenegro                 2647.585601\n",
      "Netherlands                8941.571858\n",
      "Norway                    10095.421720\n",
      "Poland                     4029.329699\n",
      "Portugal                   3068.319867\n",
      "Romania                    3144.613186\n",
      "Serbia                     3581.459448\n",
      "Slovak Republic            5074.659104\n",
      "Slovenia                   4215.041741\n",
      "Spain                      3834.034742\n",
      "Sweden                     8527.844662\n",
      "Switzerland               14734.232750\n",
      "Turkey                     1969.100980\n",
      "United Kingdom             9979.508487\n",
      "Name: gdpPercap_1952, dtype: float64\n"
     ]
    }
   ],
   "source": [
    "print(data['gdpPercap_1952'])"
   ]
  },
  {
   "cell_type": "code",
   "execution_count": 140,
   "metadata": {},
   "outputs": [
    {
     "name": "stdout",
     "output_type": "stream",
     "text": [
      "             gdpPercap_1962  gdpPercap_1967  gdpPercap_1972\n",
      "country                                                    \n",
      "Italy           8243.582340    10022.401310    12269.273780\n",
      "Montenegro      4649.593785     5907.850937     7778.414017\n",
      "Netherlands    12790.849560    15363.251360    18794.745670\n",
      "Norway         13450.401510    16361.876470    18965.055510\n",
      "Poland          5338.752143     6557.152776     8006.506993\n"
     ]
    }
   ],
   "source": [
    "print(data.loc['Italy':'Poland','gdpPercap_1962':'gdpPercap_1972'])"
   ]
  },
  {
   "cell_type": "code",
   "execution_count": 143,
   "metadata": {},
   "outputs": [
    {
     "name": "stdout",
     "output_type": "stream",
     "text": [
      "gdpPercap_1962    13450.40151\n",
      "gdpPercap_1967    16361.87647\n",
      "gdpPercap_1972    18965.05551\n",
      "dtype: float64\n"
     ]
    }
   ],
   "source": [
    "print(data.loc['Italy':'Poland','gdpPercap_1962':'gdpPercap_1972'].max())"
   ]
  },
  {
   "cell_type": "code",
   "execution_count": 144,
   "metadata": {},
   "outputs": [
    {
     "name": "stdout",
     "output_type": "stream",
     "text": [
      "gdpPercap_1962    4649.593785\n",
      "gdpPercap_1967    5907.850937\n",
      "gdpPercap_1972    7778.414017\n",
      "dtype: float64\n"
     ]
    }
   ],
   "source": [
    "print(data.loc['Italy':'Poland','gdpPercap_1962':'gdpPercap_1972'].min())"
   ]
  },
  {
   "cell_type": "code",
   "execution_count": 146,
   "metadata": {},
   "outputs": [
    {
     "name": "stdout",
     "output_type": "stream",
     "text": [
      "subset of data              gdpPercap_1962  gdpPercap_1967  gdpPercap_1972\n",
      "country                                                    \n",
      "Italy           8243.582340    10022.401310    12269.273780\n",
      "Montenegro      4649.593785     5907.850937     7778.414017\n",
      "Netherlands    12790.849560    15363.251360    18794.745670\n",
      "Norway         13450.401510    16361.876470    18965.055510\n",
      "Poland          5338.752143     6557.152776     8006.506993\n",
      "where are values large              gdpPercap_1962  gdpPercap_1967  gdpPercap_1972\n",
      "country                                                    \n",
      "Italy                 False            True            True\n",
      "Montenegro            False           False           False\n",
      "Netherlands            True            True            True\n",
      "Norway                 True            True            True\n",
      "Poland                False           False           False\n"
     ]
    }
   ],
   "source": [
    "subset = (data.loc['Italy':'Poland','gdpPercap_1962':'gdpPercap_1972'])\n",
    "print ('subset of data', subset) \n",
    "\n",
    "print('where are values large', subset >10000)"
   ]
  },
  {
   "cell_type": "code",
   "execution_count": 147,
   "metadata": {},
   "outputs": [
    {
     "name": "stdout",
     "output_type": "stream",
     "text": [
      "             gdpPercap_1962  gdpPercap_1967  gdpPercap_1972\n",
      "country                                                    \n",
      "Italy                   NaN     10022.40131     12269.27378\n",
      "Montenegro              NaN             NaN             NaN\n",
      "Netherlands     12790.84956     15363.25136     18794.74567\n",
      "Norway          13450.40151     16361.87647     18965.05551\n",
      "Poland                  NaN             NaN             NaN\n"
     ]
    }
   ],
   "source": [
    "mask=subset>10000\n",
    "print(subset[mask])"
   ]
  },
  {
   "cell_type": "code",
   "execution_count": 148,
   "metadata": {},
   "outputs": [
    {
     "name": "stdout",
     "output_type": "stream",
     "text": [
      "       gdpPercap_1962  gdpPercap_1967  gdpPercap_1972\n",
      "count        2.000000        3.000000        3.000000\n",
      "mean     13120.625535    13915.843047    16676.358320\n",
      "std        466.373656     3408.589070     3817.597015\n",
      "min      12790.849560    10022.401310    12269.273780\n",
      "25%      12955.737547    12692.826335    15532.009725\n",
      "50%      13120.625535    15363.251360    18794.745670\n",
      "75%      13285.513523    15862.563915    18879.900590\n",
      "max      13450.401510    16361.876470    18965.055510\n"
     ]
    }
   ],
   "source": [
    "print(subset[mask].describe()) #just picks out the ones that are greater than 10000"
   ]
  },
  {
   "cell_type": "code",
   "execution_count": 149,
   "metadata": {},
   "outputs": [
    {
     "name": "stdout",
     "output_type": "stream",
     "text": [
      "       gdpPercap_1962  gdpPercap_1967  gdpPercap_1972\n",
      "count        5.000000        5.000000        5.000000\n",
      "mean      8894.635868    10842.506571    13162.799194\n",
      "std       4093.410673     4855.106424     5517.298708\n",
      "min       4649.593785     5907.850937     7778.414017\n",
      "25%       5338.752143     6557.152776     8006.506993\n",
      "50%       8243.582340    10022.401310    12269.273780\n",
      "75%      12790.849560    15363.251360    18794.745670\n",
      "max      13450.401510    16361.876470    18965.055510\n"
     ]
    }
   ],
   "source": [
    "print(subset.describe())"
   ]
  },
  {
   "cell_type": "code",
   "execution_count": 150,
   "metadata": {},
   "outputs": [],
   "source": [
    "mask_higher=data.apply(lambda x: x>x.mean())"
   ]
  },
  {
   "cell_type": "code",
   "execution_count": 153,
   "metadata": {},
   "outputs": [],
   "source": [
    "data2 = pd.read_csv('/Users/metal/Desktop/data/gapminder_gdp_asia.csv',index_col='country')"
   ]
  },
  {
   "cell_type": "code",
   "execution_count": 154,
   "metadata": {},
   "outputs": [
    {
     "name": "stdout",
     "output_type": "stream",
     "text": [
      "                    gdpPercap_1952  gdpPercap_1957  gdpPercap_1962  \\\n",
      "country                                                              \n",
      "Afghanistan             779.445314      820.853030      853.100710   \n",
      "Bahrain                9867.084765    11635.799450    12753.275140   \n",
      "Bangladesh              684.244172      661.637458      686.341554   \n",
      "Cambodia                368.469286      434.038336      496.913648   \n",
      "China                   400.448611      575.987001      487.674018   \n",
      "Hong Kong China        3054.421209     3629.076457     4692.648272   \n",
      "India                   546.565749      590.061996      658.347151   \n",
      "Indonesia               749.681655      858.900271      849.289770   \n",
      "Iran                   3035.326002     3290.257643     4187.329802   \n",
      "Iraq                   4129.766056     6229.333562     8341.737815   \n",
      "Israel                 4086.522128     5385.278451     7105.630706   \n",
      "Japan                  3216.956347     4317.694365     6576.649461   \n",
      "Jordan                 1546.907807     1886.080591     2348.009158   \n",
      "Korea Dem. Rep.        1088.277758     1571.134655     1621.693598   \n",
      "Korea Rep.             1030.592226     1487.593537     1536.344387   \n",
      "Kuwait               108382.352900   113523.132900    95458.111760   \n",
      "Lebanon                4834.804067     6089.786934     5714.560611   \n",
      "Malaysia               1831.132894     1810.066992     2036.884944   \n",
      "Mongolia                786.566857      912.662609     1056.353958   \n",
      "Myanmar                 331.000000      350.000000      388.000000   \n",
      "Nepal                   545.865723      597.936356      652.396859   \n",
      "Oman                   1828.230307     2242.746551     2924.638113   \n",
      "Pakistan                684.597144      747.083529      803.342742   \n",
      "Philippines            1272.880995     1547.944844     1649.552153   \n",
      "Saudi Arabia           6459.554823     8157.591248    11626.419750   \n",
      "Singapore              2315.138227     2843.104409     3674.735572   \n",
      "Sri Lanka              1083.532030     1072.546602     1074.471960   \n",
      "Syria                  1643.485354     2117.234893     2193.037133   \n",
      "Taiwan                 1206.947913     1507.861290     1822.879028   \n",
      "Thailand                757.797418      793.577415     1002.199172   \n",
      "Vietnam                 605.066492      676.285448      772.049160   \n",
      "West Bank and Gaza     1515.592329     1827.067742     2198.956312   \n",
      "Yemen Rep.              781.717576      804.830455      825.623201   \n",
      "\n",
      "                    gdpPercap_1967  gdpPercap_1972  gdpPercap_1977  \\\n",
      "country                                                              \n",
      "Afghanistan             836.197138      739.981106      786.113360   \n",
      "Bahrain               14804.672700    18268.658390    19340.101960   \n",
      "Bangladesh              721.186086      630.233627      659.877232   \n",
      "Cambodia                523.432314      421.624026      524.972183   \n",
      "China                   612.705693      676.900092      741.237470   \n",
      "Hong Kong China        6197.962814     8315.928145    11186.141250   \n",
      "India                   700.770611      724.032527      813.337323   \n",
      "Indonesia               762.431772     1111.107907     1382.702056   \n",
      "Iran                   5906.731805     9613.818607    11888.595080   \n",
      "Iraq                   8931.459811     9576.037596    14688.235070   \n",
      "Israel                 8393.741404    12786.932230    13306.619210   \n",
      "Japan                  9847.788607    14778.786360    16610.377010   \n",
      "Jordan                 2741.796252     2110.856309     2852.351568   \n",
      "Korea Dem. Rep.        2143.540609     3701.621503     4106.301249   \n",
      "Korea Rep.             2029.228142     3030.876650     4657.221020   \n",
      "Kuwait                80894.883260   109347.867000    59265.477140   \n",
      "Lebanon                6006.983042     7486.384341     8659.696836   \n",
      "Malaysia               2277.742396     2849.094780     3827.921571   \n",
      "Mongolia               1226.041130     1421.741975     1647.511665   \n",
      "Myanmar                 349.000000      357.000000      371.000000   \n",
      "Nepal                   676.442225      674.788130      694.112440   \n",
      "Oman                   4720.942687    10618.038550    11848.343920   \n",
      "Pakistan                942.408259     1049.938981     1175.921193   \n",
      "Philippines            1814.127430     1989.374070     2373.204287   \n",
      "Saudi Arabia          16903.048860    24837.428650    34167.762600   \n",
      "Singapore              4977.418540     8597.756202    11210.089480   \n",
      "Sri Lanka              1135.514326     1213.395530     1348.775651   \n",
      "Syria                  1881.923632     2571.423014     3195.484582   \n",
      "Taiwan                 2643.858681     4062.523897     5596.519826   \n",
      "Thailand               1295.460660     1524.358936     1961.224635   \n",
      "Vietnam                 637.123289      699.501644      713.537120   \n",
      "West Bank and Gaza     2649.715007     3133.409277     3682.831494   \n",
      "Yemen Rep.              862.442146     1265.047031     1829.765177   \n",
      "\n",
      "                    gdpPercap_1982  gdpPercap_1987  gdpPercap_1992  \\\n",
      "country                                                              \n",
      "Afghanistan             978.011439      852.395945      649.341395   \n",
      "Bahrain               19211.147310    18524.024060    19035.579170   \n",
      "Bangladesh              676.981866      751.979403      837.810164   \n",
      "Cambodia                624.475478      683.895573      682.303175   \n",
      "China                   962.421380     1378.904018     1655.784158   \n",
      "Hong Kong China       14560.530510    20038.472690    24757.603010   \n",
      "India                   855.723538      976.512676     1164.406809   \n",
      "Indonesia              1516.872988     1748.356961     2383.140898   \n",
      "Iran                   7608.334602     6642.881371     7235.653188   \n",
      "Iraq                  14517.907110    11643.572680     3745.640687   \n",
      "Israel                15367.029200    17122.479860    18051.522540   \n",
      "Japan                 19384.105710    22375.941890    26824.895110   \n",
      "Jordan                 4161.415959     4448.679912     3431.593647   \n",
      "Korea Dem. Rep.        4106.525293     4106.492315     3726.063507   \n",
      "Korea Rep.             5622.942464     8533.088805    12104.278720   \n",
      "Kuwait                31354.035730    28118.429980    34932.919590   \n",
      "Lebanon                7640.519521     5377.091329     6890.806854   \n",
      "Malaysia               4920.355951     5249.802653     7277.912802   \n",
      "Mongolia               2000.603139     2338.008304     1785.402016   \n",
      "Myanmar                 424.000000      385.000000      347.000000   \n",
      "Nepal                   718.373095      775.632450      897.740360   \n",
      "Oman                  12954.791010    18115.223130    18616.706910   \n",
      "Pakistan               1443.429832     1704.686583     1971.829464   \n",
      "Philippines            2603.273765     2189.634995     2279.324017   \n",
      "Saudi Arabia          33693.175250    21198.261360    24841.617770   \n",
      "Singapore             15169.161120    18861.530810    24769.891200   \n",
      "Sri Lanka              1648.079789     1876.766827     2153.739222   \n",
      "Syria                  3761.837715     3116.774285     3340.542768   \n",
      "Taiwan                 7426.354774    11054.561750    15215.657900   \n",
      "Thailand               2393.219781     2982.653773     4616.896545   \n",
      "Vietnam                 707.235786      820.799445      989.023149   \n",
      "West Bank and Gaza     4336.032082     5107.197384     6017.654756   \n",
      "Yemen Rep.             1977.557010     1971.741538     1879.496673   \n",
      "\n",
      "                    gdpPercap_1997  gdpPercap_2002  gdpPercap_2007  \n",
      "country                                                             \n",
      "Afghanistan             635.341351      726.734055      974.580338  \n",
      "Bahrain               20292.016790    23403.559270    29796.048340  \n",
      "Bangladesh              972.770035     1136.390430     1391.253792  \n",
      "Cambodia                734.285170      896.226015     1713.778686  \n",
      "China                  2289.234136     3119.280896     4959.114854  \n",
      "Hong Kong China       28377.632190    30209.015160    39724.978670  \n",
      "India                  1458.817442     1746.769454     2452.210407  \n",
      "Indonesia              3119.335603     2873.912870     3540.651564  \n",
      "Iran                   8263.590301     9240.761975    11605.714490  \n",
      "Iraq                   3076.239795     4390.717312     4471.061906  \n",
      "Israel                20896.609240    21905.595140    25523.277100  \n",
      "Japan                 28816.584990    28604.591900    31656.068060  \n",
      "Jordan                 3645.379572     3844.917194     4519.461171  \n",
      "Korea Dem. Rep.        1690.756814     1646.758151     1593.065480  \n",
      "Korea Rep.            15993.527960    19233.988180    23348.139730  \n",
      "Kuwait                40300.619960    35110.105660    47306.989780  \n",
      "Lebanon                8754.963850     9313.938830    10461.058680  \n",
      "Malaysia              10132.909640    10206.977940    12451.655800  \n",
      "Mongolia               1902.252100     2140.739323     3095.772271  \n",
      "Myanmar                 415.000000      611.000000      944.000000  \n",
      "Nepal                  1010.892138     1057.206311     1091.359778  \n",
      "Oman                  19702.055810    19774.836870    22316.192870  \n",
      "Pakistan               2049.350521     2092.712441     2605.947580  \n",
      "Philippines            2536.534925     2650.921068     3190.481016  \n",
      "Saudi Arabia          20586.690190    19014.541180    21654.831940  \n",
      "Singapore             33519.476600    36023.105400    47143.179640  \n",
      "Sri Lanka              2664.477257     3015.378833     3970.095407  \n",
      "Syria                  4014.238972     4090.925331     4184.548089  \n",
      "Taiwan                20206.820980    23235.423290    28718.276840  \n",
      "Thailand               5852.625497     5913.187529     7458.396327  \n",
      "Vietnam                1385.896769     1764.456677     2441.576404  \n",
      "West Bank and Gaza     7110.667619     4515.487575     3025.349798  \n",
      "Yemen Rep.             2117.484526     2234.820827     2280.769906  \n"
     ]
    }
   ],
   "source": [
    "print(data2)"
   ]
  },
  {
   "cell_type": "code",
   "execution_count": 156,
   "metadata": {},
   "outputs": [
    {
     "name": "stdout",
     "output_type": "stream",
     "text": [
      "country         Afghanistan       Bahrain   Bangladesh     Cambodia  \\\n",
      "gdpPercap_1952   779.445314   9867.084765   684.244172   368.469286   \n",
      "gdpPercap_1957   820.853030  11635.799450   661.637458   434.038336   \n",
      "gdpPercap_1962   853.100710  12753.275140   686.341554   496.913648   \n",
      "gdpPercap_1967   836.197138  14804.672700   721.186086   523.432314   \n",
      "gdpPercap_1972   739.981106  18268.658390   630.233627   421.624026   \n",
      "gdpPercap_1977   786.113360  19340.101960   659.877232   524.972183   \n",
      "gdpPercap_1982   978.011439  19211.147310   676.981866   624.475478   \n",
      "gdpPercap_1987   852.395945  18524.024060   751.979403   683.895573   \n",
      "gdpPercap_1992   649.341395  19035.579170   837.810164   682.303175   \n",
      "gdpPercap_1997   635.341351  20292.016790   972.770035   734.285170   \n",
      "gdpPercap_2002   726.734055  23403.559270  1136.390430   896.226015   \n",
      "gdpPercap_2007   974.580338  29796.048340  1391.253792  1713.778686   \n",
      "\n",
      "country               China  Hong Kong China        India    Indonesia  \\\n",
      "gdpPercap_1952   400.448611      3054.421209   546.565749   749.681655   \n",
      "gdpPercap_1957   575.987001      3629.076457   590.061996   858.900271   \n",
      "gdpPercap_1962   487.674018      4692.648272   658.347151   849.289770   \n",
      "gdpPercap_1967   612.705693      6197.962814   700.770611   762.431772   \n",
      "gdpPercap_1972   676.900092      8315.928145   724.032527  1111.107907   \n",
      "gdpPercap_1977   741.237470     11186.141250   813.337323  1382.702056   \n",
      "gdpPercap_1982   962.421380     14560.530510   855.723538  1516.872988   \n",
      "gdpPercap_1987  1378.904018     20038.472690   976.512676  1748.356961   \n",
      "gdpPercap_1992  1655.784158     24757.603010  1164.406809  2383.140898   \n",
      "gdpPercap_1997  2289.234136     28377.632190  1458.817442  3119.335603   \n",
      "gdpPercap_2002  3119.280896     30209.015160  1746.769454  2873.912870   \n",
      "gdpPercap_2007  4959.114854     39724.978670  2452.210407  3540.651564   \n",
      "\n",
      "country                 Iran          Iraq     ...       Philippines  \\\n",
      "gdpPercap_1952   3035.326002   4129.766056     ...       1272.880995   \n",
      "gdpPercap_1957   3290.257643   6229.333562     ...       1547.944844   \n",
      "gdpPercap_1962   4187.329802   8341.737815     ...       1649.552153   \n",
      "gdpPercap_1967   5906.731805   8931.459811     ...       1814.127430   \n",
      "gdpPercap_1972   9613.818607   9576.037596     ...       1989.374070   \n",
      "gdpPercap_1977  11888.595080  14688.235070     ...       2373.204287   \n",
      "gdpPercap_1982   7608.334602  14517.907110     ...       2603.273765   \n",
      "gdpPercap_1987   6642.881371  11643.572680     ...       2189.634995   \n",
      "gdpPercap_1992   7235.653188   3745.640687     ...       2279.324017   \n",
      "gdpPercap_1997   8263.590301   3076.239795     ...       2536.534925   \n",
      "gdpPercap_2002   9240.761975   4390.717312     ...       2650.921068   \n",
      "gdpPercap_2007  11605.714490   4471.061906     ...       3190.481016   \n",
      "\n",
      "country         Saudi Arabia     Singapore    Sri Lanka        Syria  \\\n",
      "gdpPercap_1952   6459.554823   2315.138227  1083.532030  1643.485354   \n",
      "gdpPercap_1957   8157.591248   2843.104409  1072.546602  2117.234893   \n",
      "gdpPercap_1962  11626.419750   3674.735572  1074.471960  2193.037133   \n",
      "gdpPercap_1967  16903.048860   4977.418540  1135.514326  1881.923632   \n",
      "gdpPercap_1972  24837.428650   8597.756202  1213.395530  2571.423014   \n",
      "gdpPercap_1977  34167.762600  11210.089480  1348.775651  3195.484582   \n",
      "gdpPercap_1982  33693.175250  15169.161120  1648.079789  3761.837715   \n",
      "gdpPercap_1987  21198.261360  18861.530810  1876.766827  3116.774285   \n",
      "gdpPercap_1992  24841.617770  24769.891200  2153.739222  3340.542768   \n",
      "gdpPercap_1997  20586.690190  33519.476600  2664.477257  4014.238972   \n",
      "gdpPercap_2002  19014.541180  36023.105400  3015.378833  4090.925331   \n",
      "gdpPercap_2007  21654.831940  47143.179640  3970.095407  4184.548089   \n",
      "\n",
      "country               Taiwan     Thailand      Vietnam  West Bank and Gaza  \\\n",
      "gdpPercap_1952   1206.947913   757.797418   605.066492         1515.592329   \n",
      "gdpPercap_1957   1507.861290   793.577415   676.285448         1827.067742   \n",
      "gdpPercap_1962   1822.879028  1002.199172   772.049160         2198.956312   \n",
      "gdpPercap_1967   2643.858681  1295.460660   637.123289         2649.715007   \n",
      "gdpPercap_1972   4062.523897  1524.358936   699.501644         3133.409277   \n",
      "gdpPercap_1977   5596.519826  1961.224635   713.537120         3682.831494   \n",
      "gdpPercap_1982   7426.354774  2393.219781   707.235786         4336.032082   \n",
      "gdpPercap_1987  11054.561750  2982.653773   820.799445         5107.197384   \n",
      "gdpPercap_1992  15215.657900  4616.896545   989.023149         6017.654756   \n",
      "gdpPercap_1997  20206.820980  5852.625497  1385.896769         7110.667619   \n",
      "gdpPercap_2002  23235.423290  5913.187529  1764.456677         4515.487575   \n",
      "gdpPercap_2007  28718.276840  7458.396327  2441.576404         3025.349798   \n",
      "\n",
      "country          Yemen Rep.  \n",
      "gdpPercap_1952   781.717576  \n",
      "gdpPercap_1957   804.830455  \n",
      "gdpPercap_1962   825.623201  \n",
      "gdpPercap_1967   862.442146  \n",
      "gdpPercap_1972  1265.047031  \n",
      "gdpPercap_1977  1829.765177  \n",
      "gdpPercap_1982  1977.557010  \n",
      "gdpPercap_1987  1971.741538  \n",
      "gdpPercap_1992  1879.496673  \n",
      "gdpPercap_1997  2117.484526  \n",
      "gdpPercap_2002  2234.820827  \n",
      "gdpPercap_2007  2280.769906  \n",
      "\n",
      "[12 rows x 33 columns]\n"
     ]
    }
   ],
   "source": [
    "data2_t=data2.T\n",
    "print(data2_t)"
   ]
  },
  {
   "cell_type": "code",
   "execution_count": 174,
   "metadata": {},
   "outputs": [
    {
     "name": "stdout",
     "output_type": "stream",
     "text": [
      "       gdpPercap_1952  gdpPercap_1957  gdpPercap_1962  gdpPercap_1967  \\\n",
      "count       33.000000       33.000000       33.000000       33.000000   \n",
      "mean      5195.484004     5787.732940     5729.369625     5971.173374   \n",
      "std      18634.890865    19506.515959    16415.857196    14062.591362   \n",
      "min        331.000000      350.000000      388.000000      349.000000   \n",
      "25%        749.681655      793.577415      825.623201      836.197138   \n",
      "50%       1206.947913     1547.944844     1649.552153     2029.228142   \n",
      "75%       3035.326002     3290.257643     4187.329802     5906.731805   \n",
      "max     108382.352900   113523.132900    95458.111760    80894.883260   \n",
      "\n",
      "       gdpPercap_1972  gdpPercap_1977  gdpPercap_1982  gdpPercap_1987  \\\n",
      "count       33.000000       33.000000       33.000000       33.000000   \n",
      "mean      8187.468699     7791.314020     7434.135157     7608.226508   \n",
      "std      19087.502918    11815.777923     8701.176499     8090.262765   \n",
      "min        357.000000      371.000000      424.000000      385.000000   \n",
      "25%       1049.938981     1175.921193     1443.429832     1704.686583   \n",
      "50%       2571.423014     3195.484582     4106.525293     4106.492315   \n",
      "75%       8597.756202    11210.089480    12954.791010    11643.572680   \n",
      "max     109347.867000    59265.477140    33693.175250    28118.429980   \n",
      "\n",
      "       gdpPercap_1992  gdpPercap_1997  gdpPercap_2002  gdpPercap_2007  \n",
      "count       33.000000       33.000000       33.000000       33.000000  \n",
      "mean      8639.690248     9834.093295    10174.090397    12473.026870  \n",
      "std       9727.431088    11094.180481    11150.719203    14154.937343  \n",
      "min        347.000000      415.000000      611.000000      944.000000  \n",
      "25%       1785.402016     1902.252100     2092.712441     2452.210407  \n",
      "50%       3726.063507     3645.379572     4090.925331     4471.061906  \n",
      "75%      15215.657900    19702.055810    19233.988180    22316.192870  \n",
      "max      34932.919590    40300.619960    36023.105400    47306.989780  \n"
     ]
    }
   ],
   "source": [
    "print(data2.describe())\n"
   ]
  },
  {
   "cell_type": "code",
   "execution_count": 159,
   "metadata": {},
   "outputs": [
    {
     "name": "stdout",
     "output_type": "stream",
     "text": [
      "Index(['gdpPercap_1952', 'gdpPercap_1957', 'gdpPercap_1962', 'gdpPercap_1967',\n",
      "       'gdpPercap_1972', 'gdpPercap_1977', 'gdpPercap_1982', 'gdpPercap_1987',\n",
      "       'gdpPercap_1992', 'gdpPercap_1997', 'gdpPercap_2002', 'gdpPercap_2007'],\n",
      "      dtype='object')\n"
     ]
    }
   ],
   "source": [
    "print(data2.columns)"
   ]
  },
  {
   "cell_type": "code",
   "execution_count": 163,
   "metadata": {},
   "outputs": [
    {
     "data": {
      "text/html": [
       "<div>\n",
       "<style scoped>\n",
       "    .dataframe tbody tr th:only-of-type {\n",
       "        vertical-align: middle;\n",
       "    }\n",
       "\n",
       "    .dataframe tbody tr th {\n",
       "        vertical-align: top;\n",
       "    }\n",
       "\n",
       "    .dataframe thead th {\n",
       "        text-align: right;\n",
       "    }\n",
       "</style>\n",
       "<table border=\"1\" class=\"dataframe\">\n",
       "  <thead>\n",
       "    <tr style=\"text-align: right;\">\n",
       "      <th></th>\n",
       "      <th>gdpPercap_1952</th>\n",
       "      <th>gdpPercap_1957</th>\n",
       "      <th>gdpPercap_1962</th>\n",
       "      <th>gdpPercap_1967</th>\n",
       "      <th>gdpPercap_1972</th>\n",
       "      <th>gdpPercap_1977</th>\n",
       "      <th>gdpPercap_1982</th>\n",
       "      <th>gdpPercap_1987</th>\n",
       "      <th>gdpPercap_1992</th>\n",
       "      <th>gdpPercap_1997</th>\n",
       "      <th>gdpPercap_2002</th>\n",
       "      <th>gdpPercap_2007</th>\n",
       "    </tr>\n",
       "    <tr>\n",
       "      <th>country</th>\n",
       "      <th></th>\n",
       "      <th></th>\n",
       "      <th></th>\n",
       "      <th></th>\n",
       "      <th></th>\n",
       "      <th></th>\n",
       "      <th></th>\n",
       "      <th></th>\n",
       "      <th></th>\n",
       "      <th></th>\n",
       "      <th></th>\n",
       "      <th></th>\n",
       "    </tr>\n",
       "  </thead>\n",
       "  <tbody>\n",
       "    <tr>\n",
       "      <th>Afghanistan</th>\n",
       "      <td>False</td>\n",
       "      <td>False</td>\n",
       "      <td>False</td>\n",
       "      <td>False</td>\n",
       "      <td>False</td>\n",
       "      <td>False</td>\n",
       "      <td>False</td>\n",
       "      <td>False</td>\n",
       "      <td>False</td>\n",
       "      <td>False</td>\n",
       "      <td>False</td>\n",
       "      <td>False</td>\n",
       "    </tr>\n",
       "    <tr>\n",
       "      <th>Bahrain</th>\n",
       "      <td>True</td>\n",
       "      <td>True</td>\n",
       "      <td>True</td>\n",
       "      <td>True</td>\n",
       "      <td>True</td>\n",
       "      <td>True</td>\n",
       "      <td>True</td>\n",
       "      <td>True</td>\n",
       "      <td>True</td>\n",
       "      <td>True</td>\n",
       "      <td>True</td>\n",
       "      <td>True</td>\n",
       "    </tr>\n",
       "    <tr>\n",
       "      <th>Bangladesh</th>\n",
       "      <td>False</td>\n",
       "      <td>False</td>\n",
       "      <td>False</td>\n",
       "      <td>False</td>\n",
       "      <td>False</td>\n",
       "      <td>False</td>\n",
       "      <td>False</td>\n",
       "      <td>False</td>\n",
       "      <td>False</td>\n",
       "      <td>False</td>\n",
       "      <td>False</td>\n",
       "      <td>False</td>\n",
       "    </tr>\n",
       "    <tr>\n",
       "      <th>Cambodia</th>\n",
       "      <td>False</td>\n",
       "      <td>False</td>\n",
       "      <td>False</td>\n",
       "      <td>False</td>\n",
       "      <td>False</td>\n",
       "      <td>False</td>\n",
       "      <td>False</td>\n",
       "      <td>False</td>\n",
       "      <td>False</td>\n",
       "      <td>False</td>\n",
       "      <td>False</td>\n",
       "      <td>False</td>\n",
       "    </tr>\n",
       "    <tr>\n",
       "      <th>China</th>\n",
       "      <td>False</td>\n",
       "      <td>False</td>\n",
       "      <td>False</td>\n",
       "      <td>False</td>\n",
       "      <td>False</td>\n",
       "      <td>False</td>\n",
       "      <td>False</td>\n",
       "      <td>False</td>\n",
       "      <td>False</td>\n",
       "      <td>False</td>\n",
       "      <td>False</td>\n",
       "      <td>False</td>\n",
       "    </tr>\n",
       "  </tbody>\n",
       "</table>\n",
       "</div>"
      ],
      "text/plain": [
       "             gdpPercap_1952  gdpPercap_1957  gdpPercap_1962  gdpPercap_1967  \\\n",
       "country                                                                       \n",
       "Afghanistan           False           False           False           False   \n",
       "Bahrain                True            True            True            True   \n",
       "Bangladesh            False           False           False           False   \n",
       "Cambodia              False           False           False           False   \n",
       "China                 False           False           False           False   \n",
       "\n",
       "             gdpPercap_1972  gdpPercap_1977  gdpPercap_1982  gdpPercap_1987  \\\n",
       "country                                                                       \n",
       "Afghanistan           False           False           False           False   \n",
       "Bahrain                True            True            True            True   \n",
       "Bangladesh            False           False           False           False   \n",
       "Cambodia              False           False           False           False   \n",
       "China                 False           False           False           False   \n",
       "\n",
       "             gdpPercap_1992  gdpPercap_1997  gdpPercap_2002  gdpPercap_2007  \n",
       "country                                                                      \n",
       "Afghanistan           False           False           False           False  \n",
       "Bahrain                True            True            True            True  \n",
       "Bangladesh            False           False           False           False  \n",
       "Cambodia              False           False           False           False  \n",
       "China                 False           False           False           False  "
      ]
     },
     "execution_count": 163,
     "metadata": {},
     "output_type": "execute_result"
    }
   ],
   "source": [
    "mask_higher = data2.apply(lambda x: x> x.mean())\n",
    "mask_higher.head()"
   ]
  },
  {
   "cell_type": "code",
   "execution_count": 171,
   "metadata": {},
   "outputs": [
    {
     "data": {
      "text/html": [
       "<div>\n",
       "<style scoped>\n",
       "    .dataframe tbody tr th:only-of-type {\n",
       "        vertical-align: middle;\n",
       "    }\n",
       "\n",
       "    .dataframe tbody tr th {\n",
       "        vertical-align: top;\n",
       "    }\n",
       "\n",
       "    .dataframe thead th {\n",
       "        text-align: right;\n",
       "    }\n",
       "</style>\n",
       "<table border=\"1\" class=\"dataframe\">\n",
       "  <thead>\n",
       "    <tr style=\"text-align: right;\">\n",
       "      <th></th>\n",
       "      <th>gdpPercap_1952</th>\n",
       "      <th>gdpPercap_1957</th>\n",
       "      <th>gdpPercap_1962</th>\n",
       "      <th>gdpPercap_1967</th>\n",
       "      <th>gdpPercap_1972</th>\n",
       "      <th>gdpPercap_1977</th>\n",
       "      <th>gdpPercap_1982</th>\n",
       "      <th>gdpPercap_1987</th>\n",
       "      <th>gdpPercap_1992</th>\n",
       "      <th>gdpPercap_1997</th>\n",
       "      <th>gdpPercap_2002</th>\n",
       "      <th>gdpPercap_2007</th>\n",
       "    </tr>\n",
       "    <tr>\n",
       "      <th>country</th>\n",
       "      <th></th>\n",
       "      <th></th>\n",
       "      <th></th>\n",
       "      <th></th>\n",
       "      <th></th>\n",
       "      <th></th>\n",
       "      <th></th>\n",
       "      <th></th>\n",
       "      <th></th>\n",
       "      <th></th>\n",
       "      <th></th>\n",
       "      <th></th>\n",
       "    </tr>\n",
       "  </thead>\n",
       "  <tbody>\n",
       "    <tr>\n",
       "      <th>Afghanistan</th>\n",
       "      <td>779.445314</td>\n",
       "      <td>820.853030</td>\n",
       "      <td>853.100710</td>\n",
       "      <td>836.197138</td>\n",
       "      <td>739.981106</td>\n",
       "      <td>786.113360</td>\n",
       "      <td>978.011439</td>\n",
       "      <td>852.395945</td>\n",
       "      <td>649.341395</td>\n",
       "      <td>635.341351</td>\n",
       "      <td>726.734055</td>\n",
       "      <td>974.580338</td>\n",
       "    </tr>\n",
       "    <tr>\n",
       "      <th>Bahrain</th>\n",
       "      <td>9867.084765</td>\n",
       "      <td>11635.799450</td>\n",
       "      <td>12753.275140</td>\n",
       "      <td>14804.672700</td>\n",
       "      <td>18268.658390</td>\n",
       "      <td>19340.101960</td>\n",
       "      <td>19211.147310</td>\n",
       "      <td>18524.024060</td>\n",
       "      <td>19035.579170</td>\n",
       "      <td>20292.016790</td>\n",
       "      <td>23403.559270</td>\n",
       "      <td>29796.048340</td>\n",
       "    </tr>\n",
       "    <tr>\n",
       "      <th>Bangladesh</th>\n",
       "      <td>684.244172</td>\n",
       "      <td>661.637458</td>\n",
       "      <td>686.341554</td>\n",
       "      <td>721.186086</td>\n",
       "      <td>630.233627</td>\n",
       "      <td>659.877232</td>\n",
       "      <td>676.981866</td>\n",
       "      <td>751.979403</td>\n",
       "      <td>837.810164</td>\n",
       "      <td>972.770035</td>\n",
       "      <td>1136.390430</td>\n",
       "      <td>1391.253792</td>\n",
       "    </tr>\n",
       "    <tr>\n",
       "      <th>Cambodia</th>\n",
       "      <td>368.469286</td>\n",
       "      <td>434.038336</td>\n",
       "      <td>496.913648</td>\n",
       "      <td>523.432314</td>\n",
       "      <td>421.624026</td>\n",
       "      <td>524.972183</td>\n",
       "      <td>624.475478</td>\n",
       "      <td>683.895573</td>\n",
       "      <td>682.303175</td>\n",
       "      <td>734.285170</td>\n",
       "      <td>896.226015</td>\n",
       "      <td>1713.778686</td>\n",
       "    </tr>\n",
       "    <tr>\n",
       "      <th>China</th>\n",
       "      <td>400.448611</td>\n",
       "      <td>575.987001</td>\n",
       "      <td>487.674018</td>\n",
       "      <td>612.705693</td>\n",
       "      <td>676.900092</td>\n",
       "      <td>741.237470</td>\n",
       "      <td>962.421380</td>\n",
       "      <td>1378.904018</td>\n",
       "      <td>1655.784158</td>\n",
       "      <td>2289.234136</td>\n",
       "      <td>3119.280896</td>\n",
       "      <td>4959.114854</td>\n",
       "    </tr>\n",
       "    <tr>\n",
       "      <th>Hong Kong China</th>\n",
       "      <td>3054.421209</td>\n",
       "      <td>3629.076457</td>\n",
       "      <td>4692.648272</td>\n",
       "      <td>6197.962814</td>\n",
       "      <td>8315.928145</td>\n",
       "      <td>11186.141250</td>\n",
       "      <td>14560.530510</td>\n",
       "      <td>20038.472690</td>\n",
       "      <td>24757.603010</td>\n",
       "      <td>28377.632190</td>\n",
       "      <td>30209.015160</td>\n",
       "      <td>39724.978670</td>\n",
       "    </tr>\n",
       "    <tr>\n",
       "      <th>India</th>\n",
       "      <td>546.565749</td>\n",
       "      <td>590.061996</td>\n",
       "      <td>658.347151</td>\n",
       "      <td>700.770611</td>\n",
       "      <td>724.032527</td>\n",
       "      <td>813.337323</td>\n",
       "      <td>855.723538</td>\n",
       "      <td>976.512676</td>\n",
       "      <td>1164.406809</td>\n",
       "      <td>1458.817442</td>\n",
       "      <td>1746.769454</td>\n",
       "      <td>2452.210407</td>\n",
       "    </tr>\n",
       "  </tbody>\n",
       "</table>\n",
       "</div>"
      ],
      "text/plain": [
       "                 gdpPercap_1952  gdpPercap_1957  gdpPercap_1962  \\\n",
       "country                                                           \n",
       "Afghanistan          779.445314      820.853030      853.100710   \n",
       "Bahrain             9867.084765    11635.799450    12753.275140   \n",
       "Bangladesh           684.244172      661.637458      686.341554   \n",
       "Cambodia             368.469286      434.038336      496.913648   \n",
       "China                400.448611      575.987001      487.674018   \n",
       "Hong Kong China     3054.421209     3629.076457     4692.648272   \n",
       "India                546.565749      590.061996      658.347151   \n",
       "\n",
       "                 gdpPercap_1967  gdpPercap_1972  gdpPercap_1977  \\\n",
       "country                                                           \n",
       "Afghanistan          836.197138      739.981106      786.113360   \n",
       "Bahrain            14804.672700    18268.658390    19340.101960   \n",
       "Bangladesh           721.186086      630.233627      659.877232   \n",
       "Cambodia             523.432314      421.624026      524.972183   \n",
       "China                612.705693      676.900092      741.237470   \n",
       "Hong Kong China     6197.962814     8315.928145    11186.141250   \n",
       "India                700.770611      724.032527      813.337323   \n",
       "\n",
       "                 gdpPercap_1982  gdpPercap_1987  gdpPercap_1992  \\\n",
       "country                                                           \n",
       "Afghanistan          978.011439      852.395945      649.341395   \n",
       "Bahrain            19211.147310    18524.024060    19035.579170   \n",
       "Bangladesh           676.981866      751.979403      837.810164   \n",
       "Cambodia             624.475478      683.895573      682.303175   \n",
       "China                962.421380     1378.904018     1655.784158   \n",
       "Hong Kong China    14560.530510    20038.472690    24757.603010   \n",
       "India                855.723538      976.512676     1164.406809   \n",
       "\n",
       "                 gdpPercap_1997  gdpPercap_2002  gdpPercap_2007  \n",
       "country                                                          \n",
       "Afghanistan          635.341351      726.734055      974.580338  \n",
       "Bahrain            20292.016790    23403.559270    29796.048340  \n",
       "Bangladesh           972.770035     1136.390430     1391.253792  \n",
       "Cambodia             734.285170      896.226015     1713.778686  \n",
       "China               2289.234136     3119.280896     4959.114854  \n",
       "Hong Kong China    28377.632190    30209.015160    39724.978670  \n",
       "India               1458.817442     1746.769454     2452.210407  "
      ]
     },
     "execution_count": 171,
     "metadata": {},
     "output_type": "execute_result"
    }
   ],
   "source": [
    "data2.head(n=7)"
   ]
  },
  {
   "cell_type": "code",
   "execution_count": 172,
   "metadata": {},
   "outputs": [
    {
     "data": {
      "text/html": [
       "<div>\n",
       "<style scoped>\n",
       "    .dataframe tbody tr th:only-of-type {\n",
       "        vertical-align: middle;\n",
       "    }\n",
       "\n",
       "    .dataframe tbody tr th {\n",
       "        vertical-align: top;\n",
       "    }\n",
       "\n",
       "    .dataframe thead th {\n",
       "        text-align: right;\n",
       "    }\n",
       "</style>\n",
       "<table border=\"1\" class=\"dataframe\">\n",
       "  <thead>\n",
       "    <tr style=\"text-align: right;\">\n",
       "      <th></th>\n",
       "      <th>gdpPercap_1952</th>\n",
       "      <th>gdpPercap_1957</th>\n",
       "      <th>gdpPercap_1962</th>\n",
       "      <th>gdpPercap_1967</th>\n",
       "      <th>gdpPercap_1972</th>\n",
       "      <th>gdpPercap_1977</th>\n",
       "      <th>gdpPercap_1982</th>\n",
       "      <th>gdpPercap_1987</th>\n",
       "      <th>gdpPercap_1992</th>\n",
       "      <th>gdpPercap_1997</th>\n",
       "      <th>gdpPercap_2002</th>\n",
       "      <th>gdpPercap_2007</th>\n",
       "    </tr>\n",
       "    <tr>\n",
       "      <th>country</th>\n",
       "      <th></th>\n",
       "      <th></th>\n",
       "      <th></th>\n",
       "      <th></th>\n",
       "      <th></th>\n",
       "      <th></th>\n",
       "      <th></th>\n",
       "      <th></th>\n",
       "      <th></th>\n",
       "      <th></th>\n",
       "      <th></th>\n",
       "      <th></th>\n",
       "    </tr>\n",
       "  </thead>\n",
       "  <tbody>\n",
       "    <tr>\n",
       "      <th>Korea Dem. Rep.</th>\n",
       "      <td>1088.277758</td>\n",
       "      <td>1571.134655</td>\n",
       "      <td>1621.693598</td>\n",
       "      <td>2143.540609</td>\n",
       "      <td>3701.621503</td>\n",
       "      <td>4106.301249</td>\n",
       "      <td>4106.525293</td>\n",
       "      <td>4106.492315</td>\n",
       "      <td>3726.063507</td>\n",
       "      <td>1690.756814</td>\n",
       "      <td>1646.758151</td>\n",
       "      <td>1593.065480</td>\n",
       "    </tr>\n",
       "    <tr>\n",
       "      <th>Korea Rep.</th>\n",
       "      <td>1030.592226</td>\n",
       "      <td>1487.593537</td>\n",
       "      <td>1536.344387</td>\n",
       "      <td>2029.228142</td>\n",
       "      <td>3030.876650</td>\n",
       "      <td>4657.221020</td>\n",
       "      <td>5622.942464</td>\n",
       "      <td>8533.088805</td>\n",
       "      <td>12104.278720</td>\n",
       "      <td>15993.527960</td>\n",
       "      <td>19233.988180</td>\n",
       "      <td>23348.139730</td>\n",
       "    </tr>\n",
       "    <tr>\n",
       "      <th>Kuwait</th>\n",
       "      <td>108382.352900</td>\n",
       "      <td>113523.132900</td>\n",
       "      <td>95458.111760</td>\n",
       "      <td>80894.883260</td>\n",
       "      <td>109347.867000</td>\n",
       "      <td>59265.477140</td>\n",
       "      <td>31354.035730</td>\n",
       "      <td>28118.429980</td>\n",
       "      <td>34932.919590</td>\n",
       "      <td>40300.619960</td>\n",
       "      <td>35110.105660</td>\n",
       "      <td>47306.989780</td>\n",
       "    </tr>\n",
       "    <tr>\n",
       "      <th>Lebanon</th>\n",
       "      <td>4834.804067</td>\n",
       "      <td>6089.786934</td>\n",
       "      <td>5714.560611</td>\n",
       "      <td>6006.983042</td>\n",
       "      <td>7486.384341</td>\n",
       "      <td>8659.696836</td>\n",
       "      <td>7640.519521</td>\n",
       "      <td>5377.091329</td>\n",
       "      <td>6890.806854</td>\n",
       "      <td>8754.963850</td>\n",
       "      <td>9313.938830</td>\n",
       "      <td>10461.058680</td>\n",
       "    </tr>\n",
       "    <tr>\n",
       "      <th>Malaysia</th>\n",
       "      <td>1831.132894</td>\n",
       "      <td>1810.066992</td>\n",
       "      <td>2036.884944</td>\n",
       "      <td>2277.742396</td>\n",
       "      <td>2849.094780</td>\n",
       "      <td>3827.921571</td>\n",
       "      <td>4920.355951</td>\n",
       "      <td>5249.802653</td>\n",
       "      <td>7277.912802</td>\n",
       "      <td>10132.909640</td>\n",
       "      <td>10206.977940</td>\n",
       "      <td>12451.655800</td>\n",
       "    </tr>\n",
       "    <tr>\n",
       "      <th>Mongolia</th>\n",
       "      <td>786.566857</td>\n",
       "      <td>912.662609</td>\n",
       "      <td>1056.353958</td>\n",
       "      <td>1226.041130</td>\n",
       "      <td>1421.741975</td>\n",
       "      <td>1647.511665</td>\n",
       "      <td>2000.603139</td>\n",
       "      <td>2338.008304</td>\n",
       "      <td>1785.402016</td>\n",
       "      <td>1902.252100</td>\n",
       "      <td>2140.739323</td>\n",
       "      <td>3095.772271</td>\n",
       "    </tr>\n",
       "    <tr>\n",
       "      <th>Myanmar</th>\n",
       "      <td>331.000000</td>\n",
       "      <td>350.000000</td>\n",
       "      <td>388.000000</td>\n",
       "      <td>349.000000</td>\n",
       "      <td>357.000000</td>\n",
       "      <td>371.000000</td>\n",
       "      <td>424.000000</td>\n",
       "      <td>385.000000</td>\n",
       "      <td>347.000000</td>\n",
       "      <td>415.000000</td>\n",
       "      <td>611.000000</td>\n",
       "      <td>944.000000</td>\n",
       "    </tr>\n",
       "    <tr>\n",
       "      <th>Nepal</th>\n",
       "      <td>545.865723</td>\n",
       "      <td>597.936356</td>\n",
       "      <td>652.396859</td>\n",
       "      <td>676.442225</td>\n",
       "      <td>674.788130</td>\n",
       "      <td>694.112440</td>\n",
       "      <td>718.373095</td>\n",
       "      <td>775.632450</td>\n",
       "      <td>897.740360</td>\n",
       "      <td>1010.892138</td>\n",
       "      <td>1057.206311</td>\n",
       "      <td>1091.359778</td>\n",
       "    </tr>\n",
       "    <tr>\n",
       "      <th>Oman</th>\n",
       "      <td>1828.230307</td>\n",
       "      <td>2242.746551</td>\n",
       "      <td>2924.638113</td>\n",
       "      <td>4720.942687</td>\n",
       "      <td>10618.038550</td>\n",
       "      <td>11848.343920</td>\n",
       "      <td>12954.791010</td>\n",
       "      <td>18115.223130</td>\n",
       "      <td>18616.706910</td>\n",
       "      <td>19702.055810</td>\n",
       "      <td>19774.836870</td>\n",
       "      <td>22316.192870</td>\n",
       "    </tr>\n",
       "    <tr>\n",
       "      <th>Pakistan</th>\n",
       "      <td>684.597144</td>\n",
       "      <td>747.083529</td>\n",
       "      <td>803.342742</td>\n",
       "      <td>942.408259</td>\n",
       "      <td>1049.938981</td>\n",
       "      <td>1175.921193</td>\n",
       "      <td>1443.429832</td>\n",
       "      <td>1704.686583</td>\n",
       "      <td>1971.829464</td>\n",
       "      <td>2049.350521</td>\n",
       "      <td>2092.712441</td>\n",
       "      <td>2605.947580</td>\n",
       "    </tr>\n",
       "    <tr>\n",
       "      <th>Philippines</th>\n",
       "      <td>1272.880995</td>\n",
       "      <td>1547.944844</td>\n",
       "      <td>1649.552153</td>\n",
       "      <td>1814.127430</td>\n",
       "      <td>1989.374070</td>\n",
       "      <td>2373.204287</td>\n",
       "      <td>2603.273765</td>\n",
       "      <td>2189.634995</td>\n",
       "      <td>2279.324017</td>\n",
       "      <td>2536.534925</td>\n",
       "      <td>2650.921068</td>\n",
       "      <td>3190.481016</td>\n",
       "    </tr>\n",
       "    <tr>\n",
       "      <th>Saudi Arabia</th>\n",
       "      <td>6459.554823</td>\n",
       "      <td>8157.591248</td>\n",
       "      <td>11626.419750</td>\n",
       "      <td>16903.048860</td>\n",
       "      <td>24837.428650</td>\n",
       "      <td>34167.762600</td>\n",
       "      <td>33693.175250</td>\n",
       "      <td>21198.261360</td>\n",
       "      <td>24841.617770</td>\n",
       "      <td>20586.690190</td>\n",
       "      <td>19014.541180</td>\n",
       "      <td>21654.831940</td>\n",
       "    </tr>\n",
       "    <tr>\n",
       "      <th>Singapore</th>\n",
       "      <td>2315.138227</td>\n",
       "      <td>2843.104409</td>\n",
       "      <td>3674.735572</td>\n",
       "      <td>4977.418540</td>\n",
       "      <td>8597.756202</td>\n",
       "      <td>11210.089480</td>\n",
       "      <td>15169.161120</td>\n",
       "      <td>18861.530810</td>\n",
       "      <td>24769.891200</td>\n",
       "      <td>33519.476600</td>\n",
       "      <td>36023.105400</td>\n",
       "      <td>47143.179640</td>\n",
       "    </tr>\n",
       "    <tr>\n",
       "      <th>Sri Lanka</th>\n",
       "      <td>1083.532030</td>\n",
       "      <td>1072.546602</td>\n",
       "      <td>1074.471960</td>\n",
       "      <td>1135.514326</td>\n",
       "      <td>1213.395530</td>\n",
       "      <td>1348.775651</td>\n",
       "      <td>1648.079789</td>\n",
       "      <td>1876.766827</td>\n",
       "      <td>2153.739222</td>\n",
       "      <td>2664.477257</td>\n",
       "      <td>3015.378833</td>\n",
       "      <td>3970.095407</td>\n",
       "    </tr>\n",
       "    <tr>\n",
       "      <th>Syria</th>\n",
       "      <td>1643.485354</td>\n",
       "      <td>2117.234893</td>\n",
       "      <td>2193.037133</td>\n",
       "      <td>1881.923632</td>\n",
       "      <td>2571.423014</td>\n",
       "      <td>3195.484582</td>\n",
       "      <td>3761.837715</td>\n",
       "      <td>3116.774285</td>\n",
       "      <td>3340.542768</td>\n",
       "      <td>4014.238972</td>\n",
       "      <td>4090.925331</td>\n",
       "      <td>4184.548089</td>\n",
       "    </tr>\n",
       "    <tr>\n",
       "      <th>Taiwan</th>\n",
       "      <td>1206.947913</td>\n",
       "      <td>1507.861290</td>\n",
       "      <td>1822.879028</td>\n",
       "      <td>2643.858681</td>\n",
       "      <td>4062.523897</td>\n",
       "      <td>5596.519826</td>\n",
       "      <td>7426.354774</td>\n",
       "      <td>11054.561750</td>\n",
       "      <td>15215.657900</td>\n",
       "      <td>20206.820980</td>\n",
       "      <td>23235.423290</td>\n",
       "      <td>28718.276840</td>\n",
       "    </tr>\n",
       "    <tr>\n",
       "      <th>Thailand</th>\n",
       "      <td>757.797418</td>\n",
       "      <td>793.577415</td>\n",
       "      <td>1002.199172</td>\n",
       "      <td>1295.460660</td>\n",
       "      <td>1524.358936</td>\n",
       "      <td>1961.224635</td>\n",
       "      <td>2393.219781</td>\n",
       "      <td>2982.653773</td>\n",
       "      <td>4616.896545</td>\n",
       "      <td>5852.625497</td>\n",
       "      <td>5913.187529</td>\n",
       "      <td>7458.396327</td>\n",
       "    </tr>\n",
       "    <tr>\n",
       "      <th>Vietnam</th>\n",
       "      <td>605.066492</td>\n",
       "      <td>676.285448</td>\n",
       "      <td>772.049160</td>\n",
       "      <td>637.123289</td>\n",
       "      <td>699.501644</td>\n",
       "      <td>713.537120</td>\n",
       "      <td>707.235786</td>\n",
       "      <td>820.799445</td>\n",
       "      <td>989.023149</td>\n",
       "      <td>1385.896769</td>\n",
       "      <td>1764.456677</td>\n",
       "      <td>2441.576404</td>\n",
       "    </tr>\n",
       "    <tr>\n",
       "      <th>West Bank and Gaza</th>\n",
       "      <td>1515.592329</td>\n",
       "      <td>1827.067742</td>\n",
       "      <td>2198.956312</td>\n",
       "      <td>2649.715007</td>\n",
       "      <td>3133.409277</td>\n",
       "      <td>3682.831494</td>\n",
       "      <td>4336.032082</td>\n",
       "      <td>5107.197384</td>\n",
       "      <td>6017.654756</td>\n",
       "      <td>7110.667619</td>\n",
       "      <td>4515.487575</td>\n",
       "      <td>3025.349798</td>\n",
       "    </tr>\n",
       "    <tr>\n",
       "      <th>Yemen Rep.</th>\n",
       "      <td>781.717576</td>\n",
       "      <td>804.830455</td>\n",
       "      <td>825.623201</td>\n",
       "      <td>862.442146</td>\n",
       "      <td>1265.047031</td>\n",
       "      <td>1829.765177</td>\n",
       "      <td>1977.557010</td>\n",
       "      <td>1971.741538</td>\n",
       "      <td>1879.496673</td>\n",
       "      <td>2117.484526</td>\n",
       "      <td>2234.820827</td>\n",
       "      <td>2280.769906</td>\n",
       "    </tr>\n",
       "  </tbody>\n",
       "</table>\n",
       "</div>"
      ],
      "text/plain": [
       "                    gdpPercap_1952  gdpPercap_1957  gdpPercap_1962  \\\n",
       "country                                                              \n",
       "Korea Dem. Rep.        1088.277758     1571.134655     1621.693598   \n",
       "Korea Rep.             1030.592226     1487.593537     1536.344387   \n",
       "Kuwait               108382.352900   113523.132900    95458.111760   \n",
       "Lebanon                4834.804067     6089.786934     5714.560611   \n",
       "Malaysia               1831.132894     1810.066992     2036.884944   \n",
       "Mongolia                786.566857      912.662609     1056.353958   \n",
       "Myanmar                 331.000000      350.000000      388.000000   \n",
       "Nepal                   545.865723      597.936356      652.396859   \n",
       "Oman                   1828.230307     2242.746551     2924.638113   \n",
       "Pakistan                684.597144      747.083529      803.342742   \n",
       "Philippines            1272.880995     1547.944844     1649.552153   \n",
       "Saudi Arabia           6459.554823     8157.591248    11626.419750   \n",
       "Singapore              2315.138227     2843.104409     3674.735572   \n",
       "Sri Lanka              1083.532030     1072.546602     1074.471960   \n",
       "Syria                  1643.485354     2117.234893     2193.037133   \n",
       "Taiwan                 1206.947913     1507.861290     1822.879028   \n",
       "Thailand                757.797418      793.577415     1002.199172   \n",
       "Vietnam                 605.066492      676.285448      772.049160   \n",
       "West Bank and Gaza     1515.592329     1827.067742     2198.956312   \n",
       "Yemen Rep.              781.717576      804.830455      825.623201   \n",
       "\n",
       "                    gdpPercap_1967  gdpPercap_1972  gdpPercap_1977  \\\n",
       "country                                                              \n",
       "Korea Dem. Rep.        2143.540609     3701.621503     4106.301249   \n",
       "Korea Rep.             2029.228142     3030.876650     4657.221020   \n",
       "Kuwait                80894.883260   109347.867000    59265.477140   \n",
       "Lebanon                6006.983042     7486.384341     8659.696836   \n",
       "Malaysia               2277.742396     2849.094780     3827.921571   \n",
       "Mongolia               1226.041130     1421.741975     1647.511665   \n",
       "Myanmar                 349.000000      357.000000      371.000000   \n",
       "Nepal                   676.442225      674.788130      694.112440   \n",
       "Oman                   4720.942687    10618.038550    11848.343920   \n",
       "Pakistan                942.408259     1049.938981     1175.921193   \n",
       "Philippines            1814.127430     1989.374070     2373.204287   \n",
       "Saudi Arabia          16903.048860    24837.428650    34167.762600   \n",
       "Singapore              4977.418540     8597.756202    11210.089480   \n",
       "Sri Lanka              1135.514326     1213.395530     1348.775651   \n",
       "Syria                  1881.923632     2571.423014     3195.484582   \n",
       "Taiwan                 2643.858681     4062.523897     5596.519826   \n",
       "Thailand               1295.460660     1524.358936     1961.224635   \n",
       "Vietnam                 637.123289      699.501644      713.537120   \n",
       "West Bank and Gaza     2649.715007     3133.409277     3682.831494   \n",
       "Yemen Rep.              862.442146     1265.047031     1829.765177   \n",
       "\n",
       "                    gdpPercap_1982  gdpPercap_1987  gdpPercap_1992  \\\n",
       "country                                                              \n",
       "Korea Dem. Rep.        4106.525293     4106.492315     3726.063507   \n",
       "Korea Rep.             5622.942464     8533.088805    12104.278720   \n",
       "Kuwait                31354.035730    28118.429980    34932.919590   \n",
       "Lebanon                7640.519521     5377.091329     6890.806854   \n",
       "Malaysia               4920.355951     5249.802653     7277.912802   \n",
       "Mongolia               2000.603139     2338.008304     1785.402016   \n",
       "Myanmar                 424.000000      385.000000      347.000000   \n",
       "Nepal                   718.373095      775.632450      897.740360   \n",
       "Oman                  12954.791010    18115.223130    18616.706910   \n",
       "Pakistan               1443.429832     1704.686583     1971.829464   \n",
       "Philippines            2603.273765     2189.634995     2279.324017   \n",
       "Saudi Arabia          33693.175250    21198.261360    24841.617770   \n",
       "Singapore             15169.161120    18861.530810    24769.891200   \n",
       "Sri Lanka              1648.079789     1876.766827     2153.739222   \n",
       "Syria                  3761.837715     3116.774285     3340.542768   \n",
       "Taiwan                 7426.354774    11054.561750    15215.657900   \n",
       "Thailand               2393.219781     2982.653773     4616.896545   \n",
       "Vietnam                 707.235786      820.799445      989.023149   \n",
       "West Bank and Gaza     4336.032082     5107.197384     6017.654756   \n",
       "Yemen Rep.             1977.557010     1971.741538     1879.496673   \n",
       "\n",
       "                    gdpPercap_1997  gdpPercap_2002  gdpPercap_2007  \n",
       "country                                                             \n",
       "Korea Dem. Rep.        1690.756814     1646.758151     1593.065480  \n",
       "Korea Rep.            15993.527960    19233.988180    23348.139730  \n",
       "Kuwait                40300.619960    35110.105660    47306.989780  \n",
       "Lebanon                8754.963850     9313.938830    10461.058680  \n",
       "Malaysia              10132.909640    10206.977940    12451.655800  \n",
       "Mongolia               1902.252100     2140.739323     3095.772271  \n",
       "Myanmar                 415.000000      611.000000      944.000000  \n",
       "Nepal                  1010.892138     1057.206311     1091.359778  \n",
       "Oman                  19702.055810    19774.836870    22316.192870  \n",
       "Pakistan               2049.350521     2092.712441     2605.947580  \n",
       "Philippines            2536.534925     2650.921068     3190.481016  \n",
       "Saudi Arabia          20586.690190    19014.541180    21654.831940  \n",
       "Singapore             33519.476600    36023.105400    47143.179640  \n",
       "Sri Lanka              2664.477257     3015.378833     3970.095407  \n",
       "Syria                  4014.238972     4090.925331     4184.548089  \n",
       "Taiwan                20206.820980    23235.423290    28718.276840  \n",
       "Thailand               5852.625497     5913.187529     7458.396327  \n",
       "Vietnam                1385.896769     1764.456677     2441.576404  \n",
       "West Bank and Gaza     7110.667619     4515.487575     3025.349798  \n",
       "Yemen Rep.             2117.484526     2234.820827     2280.769906  "
      ]
     },
     "execution_count": 172,
     "metadata": {},
     "output_type": "execute_result"
    }
   ],
   "source": [
    "data2.tail(n=20)"
   ]
  },
  {
   "cell_type": "code",
   "execution_count": 173,
   "metadata": {},
   "outputs": [
    {
     "data": {
      "text/html": [
       "<div>\n",
       "<style scoped>\n",
       "    .dataframe tbody tr th:only-of-type {\n",
       "        vertical-align: middle;\n",
       "    }\n",
       "\n",
       "    .dataframe tbody tr th {\n",
       "        vertical-align: top;\n",
       "    }\n",
       "\n",
       "    .dataframe thead th {\n",
       "        text-align: right;\n",
       "    }\n",
       "</style>\n",
       "<table border=\"1\" class=\"dataframe\">\n",
       "  <thead>\n",
       "    <tr style=\"text-align: right;\">\n",
       "      <th>country</th>\n",
       "      <th>Afghanistan</th>\n",
       "      <th>Bahrain</th>\n",
       "      <th>Bangladesh</th>\n",
       "      <th>Cambodia</th>\n",
       "      <th>China</th>\n",
       "      <th>Hong Kong China</th>\n",
       "      <th>India</th>\n",
       "      <th>Indonesia</th>\n",
       "      <th>Iran</th>\n",
       "      <th>Iraq</th>\n",
       "      <th>...</th>\n",
       "      <th>Philippines</th>\n",
       "      <th>Saudi Arabia</th>\n",
       "      <th>Singapore</th>\n",
       "      <th>Sri Lanka</th>\n",
       "      <th>Syria</th>\n",
       "      <th>Taiwan</th>\n",
       "      <th>Thailand</th>\n",
       "      <th>Vietnam</th>\n",
       "      <th>West Bank and Gaza</th>\n",
       "      <th>Yemen Rep.</th>\n",
       "    </tr>\n",
       "  </thead>\n",
       "  <tbody>\n",
       "    <tr>\n",
       "      <th>gdpPercap_1952</th>\n",
       "      <td>779.445314</td>\n",
       "      <td>9867.084765</td>\n",
       "      <td>684.244172</td>\n",
       "      <td>368.469286</td>\n",
       "      <td>400.448611</td>\n",
       "      <td>3054.421209</td>\n",
       "      <td>546.565749</td>\n",
       "      <td>749.681655</td>\n",
       "      <td>3035.326002</td>\n",
       "      <td>4129.766056</td>\n",
       "      <td>...</td>\n",
       "      <td>1272.880995</td>\n",
       "      <td>6459.554823</td>\n",
       "      <td>2315.138227</td>\n",
       "      <td>1083.532030</td>\n",
       "      <td>1643.485354</td>\n",
       "      <td>1206.947913</td>\n",
       "      <td>757.797418</td>\n",
       "      <td>605.066492</td>\n",
       "      <td>1515.592329</td>\n",
       "      <td>781.717576</td>\n",
       "    </tr>\n",
       "    <tr>\n",
       "      <th>gdpPercap_1957</th>\n",
       "      <td>820.853030</td>\n",
       "      <td>11635.799450</td>\n",
       "      <td>661.637458</td>\n",
       "      <td>434.038336</td>\n",
       "      <td>575.987001</td>\n",
       "      <td>3629.076457</td>\n",
       "      <td>590.061996</td>\n",
       "      <td>858.900271</td>\n",
       "      <td>3290.257643</td>\n",
       "      <td>6229.333562</td>\n",
       "      <td>...</td>\n",
       "      <td>1547.944844</td>\n",
       "      <td>8157.591248</td>\n",
       "      <td>2843.104409</td>\n",
       "      <td>1072.546602</td>\n",
       "      <td>2117.234893</td>\n",
       "      <td>1507.861290</td>\n",
       "      <td>793.577415</td>\n",
       "      <td>676.285448</td>\n",
       "      <td>1827.067742</td>\n",
       "      <td>804.830455</td>\n",
       "    </tr>\n",
       "    <tr>\n",
       "      <th>gdpPercap_1962</th>\n",
       "      <td>853.100710</td>\n",
       "      <td>12753.275140</td>\n",
       "      <td>686.341554</td>\n",
       "      <td>496.913648</td>\n",
       "      <td>487.674018</td>\n",
       "      <td>4692.648272</td>\n",
       "      <td>658.347151</td>\n",
       "      <td>849.289770</td>\n",
       "      <td>4187.329802</td>\n",
       "      <td>8341.737815</td>\n",
       "      <td>...</td>\n",
       "      <td>1649.552153</td>\n",
       "      <td>11626.419750</td>\n",
       "      <td>3674.735572</td>\n",
       "      <td>1074.471960</td>\n",
       "      <td>2193.037133</td>\n",
       "      <td>1822.879028</td>\n",
       "      <td>1002.199172</td>\n",
       "      <td>772.049160</td>\n",
       "      <td>2198.956312</td>\n",
       "      <td>825.623201</td>\n",
       "    </tr>\n",
       "    <tr>\n",
       "      <th>gdpPercap_1967</th>\n",
       "      <td>836.197138</td>\n",
       "      <td>14804.672700</td>\n",
       "      <td>721.186086</td>\n",
       "      <td>523.432314</td>\n",
       "      <td>612.705693</td>\n",
       "      <td>6197.962814</td>\n",
       "      <td>700.770611</td>\n",
       "      <td>762.431772</td>\n",
       "      <td>5906.731805</td>\n",
       "      <td>8931.459811</td>\n",
       "      <td>...</td>\n",
       "      <td>1814.127430</td>\n",
       "      <td>16903.048860</td>\n",
       "      <td>4977.418540</td>\n",
       "      <td>1135.514326</td>\n",
       "      <td>1881.923632</td>\n",
       "      <td>2643.858681</td>\n",
       "      <td>1295.460660</td>\n",
       "      <td>637.123289</td>\n",
       "      <td>2649.715007</td>\n",
       "      <td>862.442146</td>\n",
       "    </tr>\n",
       "    <tr>\n",
       "      <th>gdpPercap_1972</th>\n",
       "      <td>739.981106</td>\n",
       "      <td>18268.658390</td>\n",
       "      <td>630.233627</td>\n",
       "      <td>421.624026</td>\n",
       "      <td>676.900092</td>\n",
       "      <td>8315.928145</td>\n",
       "      <td>724.032527</td>\n",
       "      <td>1111.107907</td>\n",
       "      <td>9613.818607</td>\n",
       "      <td>9576.037596</td>\n",
       "      <td>...</td>\n",
       "      <td>1989.374070</td>\n",
       "      <td>24837.428650</td>\n",
       "      <td>8597.756202</td>\n",
       "      <td>1213.395530</td>\n",
       "      <td>2571.423014</td>\n",
       "      <td>4062.523897</td>\n",
       "      <td>1524.358936</td>\n",
       "      <td>699.501644</td>\n",
       "      <td>3133.409277</td>\n",
       "      <td>1265.047031</td>\n",
       "    </tr>\n",
       "    <tr>\n",
       "      <th>gdpPercap_1977</th>\n",
       "      <td>786.113360</td>\n",
       "      <td>19340.101960</td>\n",
       "      <td>659.877232</td>\n",
       "      <td>524.972183</td>\n",
       "      <td>741.237470</td>\n",
       "      <td>11186.141250</td>\n",
       "      <td>813.337323</td>\n",
       "      <td>1382.702056</td>\n",
       "      <td>11888.595080</td>\n",
       "      <td>14688.235070</td>\n",
       "      <td>...</td>\n",
       "      <td>2373.204287</td>\n",
       "      <td>34167.762600</td>\n",
       "      <td>11210.089480</td>\n",
       "      <td>1348.775651</td>\n",
       "      <td>3195.484582</td>\n",
       "      <td>5596.519826</td>\n",
       "      <td>1961.224635</td>\n",
       "      <td>713.537120</td>\n",
       "      <td>3682.831494</td>\n",
       "      <td>1829.765177</td>\n",
       "    </tr>\n",
       "    <tr>\n",
       "      <th>gdpPercap_1982</th>\n",
       "      <td>978.011439</td>\n",
       "      <td>19211.147310</td>\n",
       "      <td>676.981866</td>\n",
       "      <td>624.475478</td>\n",
       "      <td>962.421380</td>\n",
       "      <td>14560.530510</td>\n",
       "      <td>855.723538</td>\n",
       "      <td>1516.872988</td>\n",
       "      <td>7608.334602</td>\n",
       "      <td>14517.907110</td>\n",
       "      <td>...</td>\n",
       "      <td>2603.273765</td>\n",
       "      <td>33693.175250</td>\n",
       "      <td>15169.161120</td>\n",
       "      <td>1648.079789</td>\n",
       "      <td>3761.837715</td>\n",
       "      <td>7426.354774</td>\n",
       "      <td>2393.219781</td>\n",
       "      <td>707.235786</td>\n",
       "      <td>4336.032082</td>\n",
       "      <td>1977.557010</td>\n",
       "    </tr>\n",
       "    <tr>\n",
       "      <th>gdpPercap_1987</th>\n",
       "      <td>852.395945</td>\n",
       "      <td>18524.024060</td>\n",
       "      <td>751.979403</td>\n",
       "      <td>683.895573</td>\n",
       "      <td>1378.904018</td>\n",
       "      <td>20038.472690</td>\n",
       "      <td>976.512676</td>\n",
       "      <td>1748.356961</td>\n",
       "      <td>6642.881371</td>\n",
       "      <td>11643.572680</td>\n",
       "      <td>...</td>\n",
       "      <td>2189.634995</td>\n",
       "      <td>21198.261360</td>\n",
       "      <td>18861.530810</td>\n",
       "      <td>1876.766827</td>\n",
       "      <td>3116.774285</td>\n",
       "      <td>11054.561750</td>\n",
       "      <td>2982.653773</td>\n",
       "      <td>820.799445</td>\n",
       "      <td>5107.197384</td>\n",
       "      <td>1971.741538</td>\n",
       "    </tr>\n",
       "    <tr>\n",
       "      <th>gdpPercap_1992</th>\n",
       "      <td>649.341395</td>\n",
       "      <td>19035.579170</td>\n",
       "      <td>837.810164</td>\n",
       "      <td>682.303175</td>\n",
       "      <td>1655.784158</td>\n",
       "      <td>24757.603010</td>\n",
       "      <td>1164.406809</td>\n",
       "      <td>2383.140898</td>\n",
       "      <td>7235.653188</td>\n",
       "      <td>3745.640687</td>\n",
       "      <td>...</td>\n",
       "      <td>2279.324017</td>\n",
       "      <td>24841.617770</td>\n",
       "      <td>24769.891200</td>\n",
       "      <td>2153.739222</td>\n",
       "      <td>3340.542768</td>\n",
       "      <td>15215.657900</td>\n",
       "      <td>4616.896545</td>\n",
       "      <td>989.023149</td>\n",
       "      <td>6017.654756</td>\n",
       "      <td>1879.496673</td>\n",
       "    </tr>\n",
       "    <tr>\n",
       "      <th>gdpPercap_1997</th>\n",
       "      <td>635.341351</td>\n",
       "      <td>20292.016790</td>\n",
       "      <td>972.770035</td>\n",
       "      <td>734.285170</td>\n",
       "      <td>2289.234136</td>\n",
       "      <td>28377.632190</td>\n",
       "      <td>1458.817442</td>\n",
       "      <td>3119.335603</td>\n",
       "      <td>8263.590301</td>\n",
       "      <td>3076.239795</td>\n",
       "      <td>...</td>\n",
       "      <td>2536.534925</td>\n",
       "      <td>20586.690190</td>\n",
       "      <td>33519.476600</td>\n",
       "      <td>2664.477257</td>\n",
       "      <td>4014.238972</td>\n",
       "      <td>20206.820980</td>\n",
       "      <td>5852.625497</td>\n",
       "      <td>1385.896769</td>\n",
       "      <td>7110.667619</td>\n",
       "      <td>2117.484526</td>\n",
       "    </tr>\n",
       "  </tbody>\n",
       "</table>\n",
       "<p>10 rows × 33 columns</p>\n",
       "</div>"
      ],
      "text/plain": [
       "country         Afghanistan       Bahrain  Bangladesh    Cambodia  \\\n",
       "gdpPercap_1952   779.445314   9867.084765  684.244172  368.469286   \n",
       "gdpPercap_1957   820.853030  11635.799450  661.637458  434.038336   \n",
       "gdpPercap_1962   853.100710  12753.275140  686.341554  496.913648   \n",
       "gdpPercap_1967   836.197138  14804.672700  721.186086  523.432314   \n",
       "gdpPercap_1972   739.981106  18268.658390  630.233627  421.624026   \n",
       "gdpPercap_1977   786.113360  19340.101960  659.877232  524.972183   \n",
       "gdpPercap_1982   978.011439  19211.147310  676.981866  624.475478   \n",
       "gdpPercap_1987   852.395945  18524.024060  751.979403  683.895573   \n",
       "gdpPercap_1992   649.341395  19035.579170  837.810164  682.303175   \n",
       "gdpPercap_1997   635.341351  20292.016790  972.770035  734.285170   \n",
       "\n",
       "country               China  Hong Kong China        India    Indonesia  \\\n",
       "gdpPercap_1952   400.448611      3054.421209   546.565749   749.681655   \n",
       "gdpPercap_1957   575.987001      3629.076457   590.061996   858.900271   \n",
       "gdpPercap_1962   487.674018      4692.648272   658.347151   849.289770   \n",
       "gdpPercap_1967   612.705693      6197.962814   700.770611   762.431772   \n",
       "gdpPercap_1972   676.900092      8315.928145   724.032527  1111.107907   \n",
       "gdpPercap_1977   741.237470     11186.141250   813.337323  1382.702056   \n",
       "gdpPercap_1982   962.421380     14560.530510   855.723538  1516.872988   \n",
       "gdpPercap_1987  1378.904018     20038.472690   976.512676  1748.356961   \n",
       "gdpPercap_1992  1655.784158     24757.603010  1164.406809  2383.140898   \n",
       "gdpPercap_1997  2289.234136     28377.632190  1458.817442  3119.335603   \n",
       "\n",
       "country                 Iran          Iraq     ...       Philippines  \\\n",
       "gdpPercap_1952   3035.326002   4129.766056     ...       1272.880995   \n",
       "gdpPercap_1957   3290.257643   6229.333562     ...       1547.944844   \n",
       "gdpPercap_1962   4187.329802   8341.737815     ...       1649.552153   \n",
       "gdpPercap_1967   5906.731805   8931.459811     ...       1814.127430   \n",
       "gdpPercap_1972   9613.818607   9576.037596     ...       1989.374070   \n",
       "gdpPercap_1977  11888.595080  14688.235070     ...       2373.204287   \n",
       "gdpPercap_1982   7608.334602  14517.907110     ...       2603.273765   \n",
       "gdpPercap_1987   6642.881371  11643.572680     ...       2189.634995   \n",
       "gdpPercap_1992   7235.653188   3745.640687     ...       2279.324017   \n",
       "gdpPercap_1997   8263.590301   3076.239795     ...       2536.534925   \n",
       "\n",
       "country         Saudi Arabia     Singapore    Sri Lanka        Syria  \\\n",
       "gdpPercap_1952   6459.554823   2315.138227  1083.532030  1643.485354   \n",
       "gdpPercap_1957   8157.591248   2843.104409  1072.546602  2117.234893   \n",
       "gdpPercap_1962  11626.419750   3674.735572  1074.471960  2193.037133   \n",
       "gdpPercap_1967  16903.048860   4977.418540  1135.514326  1881.923632   \n",
       "gdpPercap_1972  24837.428650   8597.756202  1213.395530  2571.423014   \n",
       "gdpPercap_1977  34167.762600  11210.089480  1348.775651  3195.484582   \n",
       "gdpPercap_1982  33693.175250  15169.161120  1648.079789  3761.837715   \n",
       "gdpPercap_1987  21198.261360  18861.530810  1876.766827  3116.774285   \n",
       "gdpPercap_1992  24841.617770  24769.891200  2153.739222  3340.542768   \n",
       "gdpPercap_1997  20586.690190  33519.476600  2664.477257  4014.238972   \n",
       "\n",
       "country               Taiwan     Thailand      Vietnam  West Bank and Gaza  \\\n",
       "gdpPercap_1952   1206.947913   757.797418   605.066492         1515.592329   \n",
       "gdpPercap_1957   1507.861290   793.577415   676.285448         1827.067742   \n",
       "gdpPercap_1962   1822.879028  1002.199172   772.049160         2198.956312   \n",
       "gdpPercap_1967   2643.858681  1295.460660   637.123289         2649.715007   \n",
       "gdpPercap_1972   4062.523897  1524.358936   699.501644         3133.409277   \n",
       "gdpPercap_1977   5596.519826  1961.224635   713.537120         3682.831494   \n",
       "gdpPercap_1982   7426.354774  2393.219781   707.235786         4336.032082   \n",
       "gdpPercap_1987  11054.561750  2982.653773   820.799445         5107.197384   \n",
       "gdpPercap_1992  15215.657900  4616.896545   989.023149         6017.654756   \n",
       "gdpPercap_1997  20206.820980  5852.625497  1385.896769         7110.667619   \n",
       "\n",
       "country          Yemen Rep.  \n",
       "gdpPercap_1952   781.717576  \n",
       "gdpPercap_1957   804.830455  \n",
       "gdpPercap_1962   825.623201  \n",
       "gdpPercap_1967   862.442146  \n",
       "gdpPercap_1972  1265.047031  \n",
       "gdpPercap_1977  1829.765177  \n",
       "gdpPercap_1982  1977.557010  \n",
       "gdpPercap_1987  1971.741538  \n",
       "gdpPercap_1992  1879.496673  \n",
       "gdpPercap_1997  2117.484526  \n",
       "\n",
       "[10 rows x 33 columns]"
      ]
     },
     "execution_count": 173,
     "metadata": {},
     "output_type": "execute_result"
    }
   ],
   "source": [
    "data2_t.head(n=10)"
   ]
  },
  {
   "cell_type": "code",
   "execution_count": 176,
   "metadata": {},
   "outputs": [],
   "source": [
    "%matplotlib inline\n",
    "import matplotlib.pyplot as plt\n"
   ]
  },
  {
   "cell_type": "code",
   "execution_count": 177,
   "metadata": {},
   "outputs": [
    {
     "ename": "AttributeError",
     "evalue": "module 'matplotlib.pyplot' has no attribute 'xaxis'",
     "output_type": "error",
     "traceback": [
      "\u001b[1;31m---------------------------------------------------------------------------\u001b[0m",
      "\u001b[1;31mAttributeError\u001b[0m                            Traceback (most recent call last)",
      "\u001b[1;32m<ipython-input-177-6263e0bc0e6b>\u001b[0m in \u001b[0;36m<module>\u001b[1;34m()\u001b[0m\n\u001b[0;32m      3\u001b[0m \u001b[1;33m\u001b[0m\u001b[0m\n\u001b[0;32m      4\u001b[0m \u001b[0mplt\u001b[0m\u001b[1;33m.\u001b[0m\u001b[0mplot\u001b[0m\u001b[1;33m(\u001b[0m\u001b[0mtime\u001b[0m\u001b[1;33m,\u001b[0m\u001b[0mposition\u001b[0m\u001b[1;33m)\u001b[0m\u001b[1;33m\u001b[0m\u001b[0m\n\u001b[1;32m----> 5\u001b[1;33m \u001b[0mplt\u001b[0m\u001b[1;33m.\u001b[0m\u001b[0mxaxis\u001b[0m\u001b[1;33m(\u001b[0m\u001b[0mtime\u001b[0m\u001b[1;33m)\u001b[0m\u001b[1;33m\u001b[0m\u001b[0m\n\u001b[0m\u001b[0;32m      6\u001b[0m \u001b[0mplt\u001b[0m\u001b[1;33m.\u001b[0m\u001b[0myaxis\u001b[0m\u001b[1;33m(\u001b[0m\u001b[0mposition\u001b[0m\u001b[1;33m)\u001b[0m\u001b[1;33m\u001b[0m\u001b[0m\n",
      "\u001b[1;31mAttributeError\u001b[0m: module 'matplotlib.pyplot' has no attribute 'xaxis'"
     ]
    },
    {
     "data": {
      "image/png": "[encoded data removed]",
      "text/plain": [
       "<matplotlib.figure.Figure at 0x212797ee9e8>"
      ]
     },
     "metadata": {},
     "output_type": "display_data"
    }
   ],
   "source": [
    "time=[0,1,2,3]\n",
    "position = [0,100,200,300]\n",
    "\n",
    "plt.plot(time,position)\n",
    "plt.xaxis(time)\n",
    "plt.yaxis(position)\n"
   ]
  },
  {
   "cell_type": "code",
   "execution_count": null,
   "metadata": {},
   "outputs": [],
   "source": []
  }
 ],
 "metadata": {
  "kernelspec": {
   "display_name": "Python 3",
   "language": "python",
   "name": "python3"
  },
  "language_info": {
   "codemirror_mode": {
    "name": "ipython",
    "version": 3
   },
   "file_extension": ".py",
   "mimetype": "text/x-python",
   "name": "python",
   "nbconvert_exporter": "python",
   "pygments_lexer": "ipython3",
   "version": "3.6.4"
  }
 },
 "nbformat": 4,
 "nbformat_minor": 2
}
